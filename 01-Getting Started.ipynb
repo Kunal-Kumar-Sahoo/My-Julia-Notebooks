{
 "cells": [
  {
   "cell_type": "markdown",
   "id": "7876d208-2c97-4aed-a525-75d576204829",
   "metadata": {},
   "source": [
    "# Getting started\n",
    "Topics\n",
    " - How to print\n",
    " - How to assign variables\n",
    " - How to comment\n",
    " - Syntax for basic math"
   ]
  },
  {
   "cell_type": "markdown",
   "id": "d559a8ec-8991-40d7-a5b3-c8a37b7812a9",
   "metadata": {},
   "source": [
    "### How to print\n",
    "In Julia, there is a ```println()``` function to print"
   ]
  },
  {
   "cell_type": "code",
   "execution_count": 1,
   "id": "3dcce196-8a1d-464f-9b85-943d2cb0f030",
   "metadata": {},
   "outputs": [
    {
     "name": "stdout",
     "output_type": "stream",
     "text": [
      "Hello, World\n"
     ]
    }
   ],
   "source": [
    "println(\"Hello, World\")"
   ]
  },
  {
   "cell_type": "markdown",
   "id": "9c09ec02-bdc7-4802-ae15-82afe54de31d",
   "metadata": {},
   "source": [
    "### How to assign variables\n",
    "There is no type declaration of variables required.\n",
    "Standard variable naming rules are applied here and conventionally **snake-case** is used"
   ]
  },
  {
   "cell_type": "code",
   "execution_count": 2,
   "id": "9ab9f1ee-0aa1-4d14-b235-526f58d1206e",
   "metadata": {},
   "outputs": [
    {
     "data": {
      "text/plain": [
       "Int64"
      ]
     },
     "execution_count": 2,
     "metadata": {},
     "output_type": "execute_result"
    }
   ],
   "source": [
    "var = 42\n",
    "typeof(var)"
   ]
  },
  {
   "cell_type": "code",
   "execution_count": 5,
   "id": "618098f4-ba8f-4359-899f-32d16640f11d",
   "metadata": {},
   "outputs": [
    {
     "data": {
      "text/plain": [
       "Float64"
      ]
     },
     "execution_count": 5,
     "metadata": {},
     "output_type": "execute_result"
    }
   ],
   "source": [
    "my_pi = 3.14\n",
    "typeof(my_pi)"
   ]
  },
  {
   "cell_type": "code",
   "execution_count": 9,
   "id": "fd57c1f8-5245-44b1-ab40-c23b291c563c",
   "metadata": {},
   "outputs": [
    {
     "data": {
      "text/plain": [
       "Float64"
      ]
     },
     "execution_count": 9,
     "metadata": {},
     "output_type": "execute_result"
    }
   ],
   "source": [
    "𝜇0 = 1.5e-10\n",
    "typeof(𝜇0)"
   ]
  },
  {
   "cell_type": "code",
   "execution_count": 7,
   "id": "78d39b01-6667-40fa-8b3c-a862e24ef32b",
   "metadata": {},
   "outputs": [
    {
     "data": {
      "text/plain": [
       "String"
      ]
     },
     "execution_count": 7,
     "metadata": {},
     "output_type": "execute_result"
    }
   ],
   "source": [
    "😄 = \"Happy\"\n",
    "typeof(😄)"
   ]
  },
  {
   "cell_type": "code",
   "execution_count": 8,
   "id": "19339f5f-66e9-48e2-be4a-d81196e01867",
   "metadata": {},
   "outputs": [
    {
     "data": {
      "text/plain": [
       "Int64"
      ]
     },
     "execution_count": 8,
     "metadata": {},
     "output_type": "execute_result"
    }
   ],
   "source": [
    "😄 = 1\n",
    "typeof(😄)"
   ]
  },
  {
   "cell_type": "markdown",
   "id": "67465042-ab23-425e-9b6a-f1921ed30395",
   "metadata": {},
   "source": [
    "### Comments"
   ]
  },
  {
   "cell_type": "code",
   "execution_count": 10,
   "id": "12878ca1-0517-4949-b4f8-e73724f53c3e",
   "metadata": {},
   "outputs": [],
   "source": [
    "# Single-line comment"
   ]
  },
  {
   "cell_type": "code",
   "execution_count": 11,
   "id": "0af43dc7-e150-4dc0-b252-736e492a7dd1",
   "metadata": {},
   "outputs": [
    {
     "name": "stdout",
     "output_type": "stream",
     "text": [
      "This is not a comment\n"
     ]
    }
   ],
   "source": [
    "#=\n",
    "Multi-line\n",
    "commenting\n",
    "feature\n",
    "=#\n",
    "println(\"This is not a comment\")"
   ]
  },
  {
   "cell_type": "markdown",
   "id": "697caf91-9ae6-4bb8-95f7-0c9d41ea35fa",
   "metadata": {},
   "source": [
    "### Syntax for basic maths"
   ]
  },
  {
   "cell_type": "code",
   "execution_count": 12,
   "id": "c2a60ce9-0750-471b-8b57-ccd39882372c",
   "metadata": {},
   "outputs": [
    {
     "data": {
      "text/plain": [
       "10"
      ]
     },
     "execution_count": 12,
     "metadata": {},
     "output_type": "execute_result"
    }
   ],
   "source": [
    "sum = 3 + 7"
   ]
  },
  {
   "cell_type": "code",
   "execution_count": 16,
   "id": "e6f1a5a1-95e8-4bab-bcbd-3211b0c8b9b7",
   "metadata": {},
   "outputs": [
    {
     "data": {
      "text/plain": [
       "7"
      ]
     },
     "execution_count": 16,
     "metadata": {},
     "output_type": "execute_result"
    }
   ],
   "source": [
    "difference = 10 - 3"
   ]
  },
  {
   "cell_type": "code",
   "execution_count": 17,
   "id": "f4f04a9c-c23d-4424-b856-1136498597f4",
   "metadata": {},
   "outputs": [
    {
     "data": {
      "text/plain": [
       "30"
      ]
     },
     "execution_count": 17,
     "metadata": {},
     "output_type": "execute_result"
    }
   ],
   "source": [
    "product = 10 * 3"
   ]
  },
  {
   "cell_type": "code",
   "execution_count": 18,
   "id": "44b628cb-54a5-4e49-87b5-9e17011efecb",
   "metadata": {},
   "outputs": [
    {
     "data": {
      "text/plain": [
       "3.3333333333333335"
      ]
     },
     "execution_count": 18,
     "metadata": {},
     "output_type": "execute_result"
    }
   ],
   "source": [
    "quotient = 10 / 3"
   ]
  },
  {
   "cell_type": "code",
   "execution_count": 19,
   "id": "a04724f1-3e29-4a53-802d-6555bd73a867",
   "metadata": {},
   "outputs": [
    {
     "data": {
      "text/plain": [
       "10000000000"
      ]
     },
     "execution_count": 19,
     "metadata": {},
     "output_type": "execute_result"
    }
   ],
   "source": [
    "power = 10 ^ 10"
   ]
  },
  {
   "cell_type": "code",
   "execution_count": 21,
   "id": "58356396-b840-4a4c-8ee3-8e5df2beb219",
   "metadata": {},
   "outputs": [
    {
     "data": {
      "text/plain": [
       "2"
      ]
     },
     "execution_count": 21,
     "metadata": {},
     "output_type": "execute_result"
    }
   ],
   "source": [
    "remainder = 10 % 4"
   ]
  },
  {
   "cell_type": "markdown",
   "id": "0b9a9f52-3b86-4438-937f-7a2453742f9c",
   "metadata": {},
   "source": [
    "### Exercise\n",
    "#### Assign ```365```  to a variable named ```days```. Convert ```days``` to a float and assign it to a variable ```days_float```"
   ]
  },
  {
   "cell_type": "code",
   "execution_count": 22,
   "id": "8e3928f5-220e-4953-9823-40b61312d99e",
   "metadata": {},
   "outputs": [
    {
     "data": {
      "text/plain": [
       "365.0"
      ]
     },
     "execution_count": 22,
     "metadata": {},
     "output_type": "execute_result"
    }
   ],
   "source": [
    "days = 365\n",
    "days_float = convert(Float64, days)"
   ]
  },
  {
   "cell_type": "code",
   "execution_count": 23,
   "id": "369ffe82-5f0f-458a-82a1-8ff96a289ccb",
   "metadata": {},
   "outputs": [],
   "source": [
    "@assert days == 365\n",
    "@assert days_float == 365.0"
   ]
  },
  {
   "cell_type": "markdown",
   "id": "8c7cb9dc-c9dc-4e92-931e-4f5e84dc029b",
   "metadata": {},
   "source": [
    "### Self-exploration"
   ]
  },
  {
   "cell_type": "code",
   "execution_count": 25,
   "id": "93140b03-dca4-4c8a-b583-b8208276a890",
   "metadata": {},
   "outputs": [
    {
     "ename": "LoadError",
     "evalue": "MethodError: \u001b[0mCannot `convert` an object of type \u001b[92mString\u001b[39m\u001b[0m to an object of type \u001b[91mInt64\u001b[39m\n\u001b[0mClosest candidates are:\n\u001b[0m  convert(::Type{T}, \u001b[91m::T\u001b[39m) where T<:Number at number.jl:6\n\u001b[0m  convert(::Type{T}, \u001b[91m::Number\u001b[39m) where T<:Number at number.jl:7\n\u001b[0m  convert(::Type{T}, \u001b[91m::Base.TwicePrecision\u001b[39m) where T<:Number at twiceprecision.jl:273\n\u001b[0m  ...",
     "output_type": "error",
     "traceback": [
      "MethodError: \u001b[0mCannot `convert` an object of type \u001b[92mString\u001b[39m\u001b[0m to an object of type \u001b[91mInt64\u001b[39m\n\u001b[0mClosest candidates are:\n\u001b[0m  convert(::Type{T}, \u001b[91m::T\u001b[39m) where T<:Number at number.jl:6\n\u001b[0m  convert(::Type{T}, \u001b[91m::Number\u001b[39m) where T<:Number at number.jl:7\n\u001b[0m  convert(::Type{T}, \u001b[91m::Base.TwicePrecision\u001b[39m) where T<:Number at twiceprecision.jl:273\n\u001b[0m  ...",
      "",
      "Stacktrace:",
      " [1] top-level scope",
      "   @ In[25]:1",
      " [2] eval",
      "   @ ./boot.jl:368 [inlined]",
      " [3] include_string(mapexpr::typeof(REPL.softscope), mod::Module, code::String, filename::String)",
      "   @ Base ./loading.jl:1428"
     ]
    }
   ],
   "source": [
    "convert(Int64, \"365\")"
   ]
  },
  {
   "cell_type": "code",
   "execution_count": 26,
   "id": "3f8ef55b-593b-493e-8f60-18c0bf44d245",
   "metadata": {},
   "outputs": [
    {
     "data": {
      "text/plain": [
       "365"
      ]
     },
     "execution_count": 26,
     "metadata": {},
     "output_type": "execute_result"
    }
   ],
   "source": [
    "parse(Int64, \"365\")"
   ]
  },
  {
   "cell_type": "code",
   "execution_count": null,
   "id": "0fb3df20-4567-4658-a0f2-b7dedb01e66b",
   "metadata": {},
   "outputs": [],
   "source": []
  }
 ],
 "metadata": {
  "kernelspec": {
   "display_name": "Julia 1.8.0",
   "language": "julia",
   "name": "julia-1.8"
  },
  "language_info": {
   "file_extension": ".jl",
   "mimetype": "application/julia",
   "name": "julia",
   "version": "1.8.0"
  }
 },
 "nbformat": 4,
 "nbformat_minor": 5
}
