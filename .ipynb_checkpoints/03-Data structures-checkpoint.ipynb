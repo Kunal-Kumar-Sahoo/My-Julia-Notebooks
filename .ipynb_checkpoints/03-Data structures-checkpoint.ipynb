{
 "cells": [
  {
   "cell_type": "markdown",
   "id": "4ad73c5c-7031-41ba-a28d-545710779ded",
   "metadata": {},
   "source": [
    "# Data structures\n",
    "- Dictionaries\n",
    "- Tuples\n",
    "- Arrays\n",
    "\n",
    "Tuples and arrays are both **ordered-sequences** of elements (we can index them).\n",
    "\n",
    "Dictionaries and arrays are both **mutable**"
   ]
  },
  {
   "cell_type": "markdown",
   "id": "31be3aa9-0b75-4fc2-b1bd-35b62f03d3ed",
   "metadata": {},
   "source": [
    "### Dictionaries"
   ]
  },
  {
   "cell_type": "code",
   "execution_count": 1,
   "id": "86780628-9a9b-4f2e-b942-2db23f240452",
   "metadata": {},
   "outputs": [
    {
     "data": {
      "text/plain": [
       "Dict{String, String} with 2 entries:\n",
       "  \"Kunal\" => \"kunal.sce21@sot.pdpu.ac.in\"\n",
       "  \"Anuj\"  => \"anuj.pce21@sot.pdpu.ac.in\""
      ]
     },
     "execution_count": 1,
     "metadata": {},
     "output_type": "execute_result"
    }
   ],
   "source": [
    "contact_book = Dict(\n",
    "    \"Kunal\" => \"kunal.sce21@sot.pdpu.ac.in\",\n",
    "    \"Anuj\" => \"anuj.pce21@sot.pdpu.ac.in\"\n",
    ")"
   ]
  },
  {
   "cell_type": "code",
   "execution_count": 2,
   "id": "10223b95-a328-401e-a6bd-5838e03ab83b",
   "metadata": {},
   "outputs": [
    {
     "data": {
      "text/plain": [
       "\"rashida.kce21@sot.pdpu.ac.in\""
      ]
     },
     "execution_count": 2,
     "metadata": {},
     "output_type": "execute_result"
    }
   ],
   "source": [
    "contact_book[\"Rashida\"] = \"rashida.kce21@sot.pdpu.ac.in\""
   ]
  },
  {
   "cell_type": "code",
   "execution_count": 3,
   "id": "d8b2d4d2-6902-47df-b223-29e6b98d3bdd",
   "metadata": {},
   "outputs": [
    {
     "data": {
      "text/plain": [
       "Dict{String, String} with 3 entries:\n",
       "  \"Kunal\"   => \"kunal.sce21@sot.pdpu.ac.in\"\n",
       "  \"Anuj\"    => \"anuj.pce21@sot.pdpu.ac.in\"\n",
       "  \"Rashida\" => \"rashida.kce21@sot.pdpu.ac.in\""
      ]
     },
     "execution_count": 3,
     "metadata": {},
     "output_type": "execute_result"
    }
   ],
   "source": [
    "contact_book"
   ]
  },
  {
   "cell_type": "code",
   "execution_count": 4,
   "id": "a8895c83-4b5d-490a-9edc-f9a4105cee41",
   "metadata": {},
   "outputs": [
    {
     "ename": "LoadError",
     "evalue": "UndefVarError: pop not defined",
     "output_type": "error",
     "traceback": [
      "UndefVarError: pop not defined",
      "",
      "Stacktrace:",
      " [1] top-level scope",
      "   @ In[4]:1",
      " [2] eval",
      "   @ ./boot.jl:368 [inlined]",
      " [3] include_string(mapexpr::typeof(REPL.softscope), mod::Module, code::String, filename::String)",
      "   @ Base ./loading.jl:1428"
     ]
    }
   ],
   "source": [
    "pop!(contact_book, \"Anuj\")\n",
    "contact_book"
   ]
  },
  {
   "cell_type": "code",
   "execution_count": null,
   "id": "ec49b56f-41a3-42e2-b38f-3b923dd85399",
   "metadata": {},
   "outputs": [],
   "source": []
  }
 ],
 "metadata": {
  "kernelspec": {
   "display_name": "Julia 1.8.0",
   "language": "julia",
   "name": "julia-1.8"
  },
  "language_info": {
   "file_extension": ".jl",
   "mimetype": "application/julia",
   "name": "julia",
   "version": "1.8.0"
  }
 },
 "nbformat": 4,
 "nbformat_minor": 5
}
