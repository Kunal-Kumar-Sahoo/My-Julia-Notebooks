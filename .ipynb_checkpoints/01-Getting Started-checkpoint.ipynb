{
 "cells": [
  {
   "cell_type": "markdown",
   "id": "7876d208-2c97-4aed-a525-75d576204829",
   "metadata": {},
   "source": [
    "# Getting started\n",
    "Topics\n",
    " - How to print\n",
    " - How to assign variables\n",
    " - How to comment\n",
    " - Syntax for basic math"
   ]
  },
  {
   "cell_type": "markdown",
   "id": "d559a8ec-8991-40d7-a5b3-c8a37b7812a9",
   "metadata": {},
   "source": [
    "### How to print\n",
    "In Julia, there is a ```println()``` function to print"
   ]
  },
  {
   "cell_type": "code",
   "execution_count": 1,
   "id": "3dcce196-8a1d-464f-9b85-943d2cb0f030",
   "metadata": {},
   "outputs": [
    {
     "name": "stdout",
     "output_type": "stream",
     "text": [
      "Hello, World\n"
     ]
    }
   ],
   "source": [
    "println(\"Hello, World\")"
   ]
  },
  {
   "cell_type": "markdown",
   "id": "9c09ec02-bdc7-4802-ae15-82afe54de31d",
   "metadata": {},
   "source": [
    "### How to assign variables\n",
    "There is no type declaration of variables required.\n",
    "Standard variable naming rules are applied here and conventionally **snake-case** is used"
   ]
  },
  {
   "cell_type": "code",
   "execution_count": 2,
   "id": "9ab9f1ee-0aa1-4d14-b235-526f58d1206e",
   "metadata": {},
   "outputs": [
    {
     "data": {
      "text/plain": [
       "Int64"
      ]
     },
     "execution_count": 2,
     "metadata": {},
     "output_type": "execute_result"
    }
   ],
   "source": [
    "var = 42\n",
    "typeof(var)"
   ]
  },
  {
   "cell_type": "code",
   "execution_count": 5,
   "id": "618098f4-ba8f-4359-899f-32d16640f11d",
   "metadata": {},
   "outputs": [
    {
     "data": {
      "text/plain": [
       "Float64"
      ]
     },
     "execution_count": 5,
     "metadata": {},
     "output_type": "execute_result"
    }
   ],
   "source": [
    "my_pi = 3.14\n",
    "typeof(my_pi)"
   ]
  },
  {
   "cell_type": "code",
   "execution_count": 9,
   "id": "fd57c1f8-5245-44b1-ab40-c23b291c563c",
   "metadata": {},
   "outputs": [
    {
     "data": {
      "text/plain": [
       "Float64"
      ]
     },
     "execution_count": 9,
     "metadata": {},
     "output_type": "execute_result"
    }
   ],
   "source": [
    "𝜇0 = 1.5e-10\n",
    "typeof(𝜇0)"
   ]
  },
  {
   "cell_type": "code",
   "execution_count": 7,
   "id": "78d39b01-6667-40fa-8b3c-a862e24ef32b",
   "metadata": {},
   "outputs": [
    {
     "data": {
      "text/plain": [
       "String"
      ]
     },
     "execution_count": 7,
     "metadata": {},
     "output_type": "execute_result"
    }
   ],
   "source": [
    "😄 = \"Happy\"\n",
    "typeof(😄)"
   ]
  },
  {
   "cell_type": "code",
   "execution_count": 8,
   "id": "19339f5f-66e9-48e2-be4a-d81196e01867",
   "metadata": {},
   "outputs": [
    {
     "data": {
      "text/plain": [
       "Int64"
      ]
     },
     "execution_count": 8,
     "metadata": {},
     "output_type": "execute_result"
    }
   ],
   "source": [
    "😄 = 1\n",
    "typeof(😄)"
   ]
  },
  {
   "cell_type": "markdown",
   "id": "67465042-ab23-425e-9b6a-f1921ed30395",
   "metadata": {},
   "source": [
    "### Comments"
   ]
  },
  {
   "cell_type": "code",
   "execution_count": 10,
   "id": "12878ca1-0517-4949-b4f8-e73724f53c3e",
   "metadata": {},
   "outputs": [],
   "source": [
    "# Single-line comment"
   ]
  },
  {
   "cell_type": "code",
   "execution_count": 11,
   "id": "0af43dc7-e150-4dc0-b252-736e492a7dd1",
   "metadata": {},
   "outputs": [
    {
     "name": "stdout",
     "output_type": "stream",
     "text": [
      "This is not a comment\n"
     ]
    }
   ],
   "source": [
    "#=\n",
    "Multi-line\n",
    "commenting\n",
    "feature\n",
    "=#\n",
    "println(\"This is not a comment\")"
   ]
  },
  {
   "cell_type": "markdown",
   "id": "697caf91-9ae6-4bb8-95f7-0c9d41ea35fa",
   "metadata": {},
   "source": [
    "### Syntax for basic maths"
   ]
  },
  {
   "cell_type": "code",
   "execution_count": null,
   "id": "c2a60ce9-0750-471b-8b57-ccd39882372c",
   "metadata": {},
   "outputs": [],
   "source": []
  }
 ],
 "metadata": {
  "kernelspec": {
   "display_name": "Julia 1.8.0",
   "language": "julia",
   "name": "julia-1.8"
  },
  "language_info": {
   "file_extension": ".jl",
   "mimetype": "application/julia",
   "name": "julia",
   "version": "1.8.0"
  }
 },
 "nbformat": 4,
 "nbformat_minor": 5
}
