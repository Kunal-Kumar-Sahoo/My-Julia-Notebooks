{
 "cells": [
  {
   "cell_type": "code",
   "execution_count": null,
   "id": "24270ff3-4a12-4998-a0e7-01454bc80466",
   "metadata": {},
   "outputs": [],
   "source": []
  }
 ],
 "metadata": {
  "kernelspec": {
   "display_name": "Julia 1.8.0",
   "language": "julia",
   "name": "julia-1.8"
  },
  "language_info": {
   "name": ""
  }
 },
 "nbformat": 4,
 "nbformat_minor": 5
}
