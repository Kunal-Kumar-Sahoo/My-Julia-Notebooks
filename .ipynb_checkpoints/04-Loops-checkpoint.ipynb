{
 "cells": [
  {
   "cell_type": "markdown",
   "id": "4ad7f2e3-a7fc-477e-a192-d5420f1f8285",
   "metadata": {},
   "source": [
    "# Loops\n",
    "Topics:\n",
    "- `while` loops\n",
    "- `for` loops"
   ]
  },
  {
   "cell_type": "code",
   "execution_count": 3,
   "id": "a1f694bf-250f-4124-8648-9025097a68b8",
   "metadata": {},
   "outputs": [
    {
     "name": "stdout",
     "output_type": "stream",
     "text": [
      "1 2 3 4 5 6 7 8 9 10 "
     ]
    }
   ],
   "source": [
    "n = 0\n",
    "while n < 10\n",
    "    n += 1\n",
    "    print(\"$n \")\n",
    "end"
   ]
  },
  {
   "cell_type": "code",
   "execution_count": 4,
   "id": "0be2d779-ba8a-49b8-9cba-e4f341384a75",
   "metadata": {},
   "outputs": [
    {
     "name": "stdout",
     "output_type": "stream",
     "text": [
      "Rashida is my friend\n",
      "Diya is my friend\n",
      "Anuj is my friend\n",
      "Dev is my friend\n",
      "Tanish is my friend\n",
      "Abhinav is my friend\n"
     ]
    }
   ],
   "source": [
    "my_friends = [\"Rashida\", \"Diya\", \"Anuj\", \"Dev\", \"Tanish\", \"Abhinav\"]\n",
    "i = 1\n",
    "while i <= length(my_friends)\n",
    "    println(\"$(my_friends[i]) is my friend\")\n",
    "    i += 1\n",
    "end"
   ]
  },
  {
   "cell_type": "code",
   "execution_count": 5,
   "id": "ee4700c6-d470-44ab-ba46-674b68ce4662",
   "metadata": {},
   "outputs": [
    {
     "name": "stdout",
     "output_type": "stream",
     "text": [
      "1 2 3 4 5 6 7 8 9 10 "
     ]
    }
   ],
   "source": [
    "for n in 1:10\n",
    "    print(\"$n \")\n",
    "end"
   ]
  },
  {
   "cell_type": "code",
   "execution_count": 7,
   "id": "b1e7b548-df03-4a96-a1fd-abe330b3cf23",
   "metadata": {},
   "outputs": [
    {
     "name": "stdout",
     "output_type": "stream",
     "text": [
      "Rashida is my friend\n",
      "Diya is my friend\n",
      "Anuj is my friend\n",
      "Dev is my friend\n",
      "Tanish is my friend\n",
      "Abhinav is my friend\n"
     ]
    }
   ],
   "source": [
    "for friend in my_friends\n",
    "    println(\"$friend is my friend\")\n",
    "end"
   ]
  },
  {
   "cell_type": "markdown",
   "id": "4d75db63-ebec-4022-8f04-4a8dd8fb461b",
   "metadata": {},
   "source": [
    "We can replace `in` with `∈`"
   ]
  },
  {
   "cell_type": "code",
   "execution_count": 8,
   "id": "c0bf58f5-662b-483a-9cf9-c748d949b7e0",
   "metadata": {},
   "outputs": [
    {
     "name": "stdout",
     "output_type": "stream",
     "text": [
      "Rashida is my friend\n",
      "Diya is my friend\n",
      "Anuj is my friend\n",
      "Dev is my friend\n",
      "Tanish is my friend\n",
      "Abhinav is my friend\n"
     ]
    }
   ],
   "source": [
    "for friend ∈ my_friends\n",
    "    println(\"$friend is my friend\")\n",
    "end"
   ]
  },
  {
   "cell_type": "markdown",
   "id": "c4d171be-210a-40b6-ae31-0e6475a64cdf",
   "metadata": {},
   "source": [
    "### Exercise"
   ]
  },
  {
   "cell_type": "code",
   "execution_count": 9,
   "id": "2482f86f-a024-456a-aec9-19150b8ffa68",
   "metadata": {},
   "outputs": [
    {
     "data": {
      "text/plain": [
       "5×5 Matrix{Float64}:\n",
       " 0.0  0.0  0.0  0.0  0.0\n",
       " 0.0  0.0  0.0  0.0  0.0\n",
       " 0.0  0.0  0.0  0.0  0.0\n",
       " 0.0  0.0  0.0  0.0  0.0\n",
       " 0.0  0.0  0.0  0.0  0.0"
      ]
     },
     "execution_count": 9,
     "metadata": {},
     "output_type": "execute_result"
    }
   ],
   "source": [
    "m, n = 5, 5\n",
    "A = zeros(m, n)"
   ]
  },
  {
   "cell_type": "code",
   "execution_count": 10,
   "id": "c5ff3a35-dfd6-4cad-a0d7-0a6b98a40a8c",
   "metadata": {},
   "outputs": [
    {
     "data": {
      "text/plain": [
       "5×5 Matrix{Float64}:\n",
       " 2.0  3.0  4.0  5.0   6.0\n",
       " 3.0  4.0  5.0  6.0   7.0\n",
       " 4.0  5.0  6.0  7.0   8.0\n",
       " 5.0  6.0  7.0  8.0   9.0\n",
       " 6.0  7.0  8.0  9.0  10.0"
      ]
     },
     "execution_count": 10,
     "metadata": {},
     "output_type": "execute_result"
    }
   ],
   "source": [
    "for i ∈ 1:m\n",
    "    for j ∈ 1:n\n",
    "        A[i, j] = i + j - 1\n",
    "    end\n",
    "end\n",
    "A"
   ]
  },
  {
   "cell_type": "code",
   "execution_count": null,
   "id": "eab80b4d-9487-49e5-91f5-9c07ae7a9f74",
   "metadata": {},
   "outputs": [],
   "source": []
  }
 ],
 "metadata": {
  "kernelspec": {
   "display_name": "Julia 1.8.0",
   "language": "julia",
   "name": "julia-1.8"
  },
  "language_info": {
   "file_extension": ".jl",
   "mimetype": "application/julia",
   "name": "julia",
   "version": "1.8.0"
  }
 },
 "nbformat": 4,
 "nbformat_minor": 5
}
