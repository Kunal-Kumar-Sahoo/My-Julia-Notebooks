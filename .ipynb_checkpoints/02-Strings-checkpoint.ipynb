{
 "cells": [
  {
   "cell_type": "markdown",
   "id": "77db8daf-f21d-43bb-976c-e70fe8ea562c",
   "metadata": {},
   "source": [
    "# Strings\n",
    "Topics\n",
    "- How to get a string?\n",
    "- String interpolation\n",
    "- String concatenation"
   ]
  },
  {
   "cell_type": "markdown",
   "id": "1d19b6f4-e64c-4409-b76b-c0fe2276611c",
   "metadata": {},
   "source": [
    "### How to get a string?\n",
    "Using ```\"\"``` or ```\"\"\"\"\"\"```"
   ]
  },
  {
   "cell_type": "code",
   "execution_count": 1,
   "id": "c297cefe-ccb8-42ff-b9e1-8c34600066c3",
   "metadata": {},
   "outputs": [
    {
     "data": {
      "text/plain": [
       "\"Hello, World\""
      ]
     },
     "execution_count": 1,
     "metadata": {},
     "output_type": "execute_result"
    }
   ],
   "source": [
    "str1 = \"Hello, World\""
   ]
  },
  {
   "cell_type": "code",
   "execution_count": 2,
   "id": "55ba540f-ace0-4ffc-8535-bc8b654fcde4",
   "metadata": {},
   "outputs": [
    {
     "data": {
      "text/plain": [
       "\"Hello,\\nWorld\\n\""
      ]
     },
     "execution_count": 2,
     "metadata": {},
     "output_type": "execute_result"
    }
   ],
   "source": [
    "str2 = \"\"\"\n",
    "Hello,\n",
    "World\n",
    "\"\"\""
   ]
  },
  {
   "cell_type": "code",
   "execution_count": 4,
   "id": "8687dfff-6b01-4141-8618-fe3c37515962",
   "metadata": {},
   "outputs": [
    {
     "name": "stdout",
     "output_type": "stream",
     "text": [
      "Char\n",
      "String\n"
     ]
    }
   ],
   "source": [
    "println(typeof('a'))\n",
    "println(typeof(\"a\"))"
   ]
  },
  {
   "cell_type": "code",
   "execution_count": 5,
   "id": "3e023bd3-e865-4480-9a3d-49a0b183fdcb",
   "metadata": {},
   "outputs": [
    {
     "ename": "LoadError",
     "evalue": "syntax: character literal contains multiple characters",
     "output_type": "error",
     "traceback": [
      "syntax: character literal contains multiple characters",
      "",
      "Stacktrace:",
      " [1] top-level scope",
      "   @ In[5]:1",
      " [2] eval",
      "   @ ./boot.jl:368 [inlined]",
      " [3] include_string(mapexpr::typeof(REPL.softscope), mod::Module, code::String, filename::String)",
      "   @ Base ./loading.jl:1428"
     ]
    }
   ],
   "source": [
    "'We will get an error here'"
   ]
  },
  {
   "cell_type": "markdown",
   "id": "88f55aa3-9ddd-4175-9a4f-2464ec26b82c",
   "metadata": {},
   "source": [
    "### String interpolation\n",
    "Use `$` sign to insert existing variables into a string and to evaluate expressions within a string."
   ]
  },
  {
   "cell_type": "code",
   "execution_count": 6,
   "id": "1f46a519-32af-44f5-8dc8-0f999c32fcb1",
   "metadata": {},
   "outputs": [
    {
     "name": "stdout",
     "output_type": "stream",
     "text": [
      "Hello! I'm Kunal\n"
     ]
    }
   ],
   "source": [
    "name = \"Kunal\"\n",
    "age = 19\n",
    "cgpa = 9.96\n",
    "\n",
    "println(\"Hello! I'm $name\")"
   ]
  },
  {
   "cell_type": "code",
   "execution_count": 8,
   "id": "877e7b7b-9eef-4c24-9c3c-bdd910e54ee0",
   "metadata": {},
   "outputs": [
    {
     "name": "stdout",
     "output_type": "stream",
     "text": [
      "I am 19 years old and my current CGPA is 9.96\n"
     ]
    }
   ],
   "source": [
    "println(\"I am $age years old and my current CGPA is $cgpa\")"
   ]
  },
  {
   "cell_type": "markdown",
   "id": "6167992b-f8b2-4ec0-bea9-6ac540601b42",
   "metadata": {},
   "source": [
    "### String concatenation\n",
    "There are 3 ways to concatenate strings:\n",
    "1. `string()` function\n",
    "2. `*` operator\n",
    "3. String interpolation"
   ]
  },
  {
   "cell_type": "code",
   "execution_count": 9,
   "id": "12a9cc67-9c51-43e2-bc1e-99d84ab813e5",
   "metadata": {},
   "outputs": [
    {
     "data": {
      "text/plain": [
       "\"You are a 10 my lady\""
      ]
     },
     "execution_count": 9,
     "metadata": {},
     "output_type": "execute_result"
    }
   ],
   "source": [
    "string(\"You are a \", 10, \" my lady\")"
   ]
  },
  {
   "cell_type": "code",
   "execution_count": 12,
   "id": "44121620-245f-45be-8a2d-17fcf053d405",
   "metadata": {},
   "outputs": [
    {
     "name": "stdout",
     "output_type": "stream",
     "text": [
      "Hello World\n"
     ]
    }
   ],
   "source": [
    "s1 = \"Hello\"\n",
    "s2 = \"World\"\n",
    "println(s1 * ' ' * s2) "
   ]
  },
  {
   "cell_type": "code",
   "execution_count": 13,
   "id": "bf5d0f46-c9bf-4595-b7af-06ffaabae870",
   "metadata": {},
   "outputs": [
    {
     "name": "stdout",
     "output_type": "stream",
     "text": [
      "Hello World\n"
     ]
    }
   ],
   "source": [
    "println(\"$s1 $s2\")"
   ]
  }
 ],
 "metadata": {
  "kernelspec": {
   "display_name": "Julia 1.8.0",
   "language": "julia",
   "name": "julia-1.8"
  },
  "language_info": {
   "file_extension": ".jl",
   "mimetype": "application/julia",
   "name": "julia",
   "version": "1.8.0"
  }
 },
 "nbformat": 4,
 "nbformat_minor": 5
}
