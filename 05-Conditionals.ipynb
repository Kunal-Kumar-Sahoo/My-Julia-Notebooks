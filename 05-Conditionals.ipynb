{
 "cells": [
  {
   "cell_type": "markdown",
   "id": "1536493c-1d6a-4b30-a2f3-dd42bac49b40",
   "metadata": {},
   "source": [
    "# Conditionals\n",
    "### Syntax\n",
    "```\n",
    "    if *condition 1*\n",
    "        *body 1*\n",
    "    elseif *condition 2*\n",
    "        *body 2*\n",
    "    else\n",
    "        *body 3*\n",
    "    end\n",
    "```"
   ]
  },
  {
   "cell_type": "code",
   "execution_count": 1,
   "id": "ff7b864b-f38c-4130-bc48-e60f5f14c43a",
   "metadata": {},
   "outputs": [
    {
     "data": {
      "text/plain": [
       "(69, 96)"
      ]
     },
     "execution_count": 1,
     "metadata": {},
     "output_type": "execute_result"
    }
   ],
   "source": [
    "x, y = 69, 96"
   ]
  },
  {
   "cell_type": "code",
   "execution_count": 3,
   "id": "a83fb588-8272-444c-a112-7fd968330958",
   "metadata": {},
   "outputs": [
    {
     "name": "stdout",
     "output_type": "stream",
     "text": [
      "69 is lesser than 96\n"
     ]
    }
   ],
   "source": [
    "if x > y\n",
    "    println(\"$x is greater than $y\")\n",
    "elseif x < y \n",
    "    println(\"$x is lesser than $y\")\n",
    "else \n",
    "    println(\"$x is equal to $y\")\n",
    "end"
   ]
  },
  {
   "cell_type": "markdown",
   "id": "c2f7bc33-3f33-4cdc-8692-bb90d95ef3e5",
   "metadata": {},
   "source": [
    "### Ternary operators\n",
    "`x > y ? a : b` is equivalent to\n",
    "```\n",
    "if x > y\n",
    "    a\n",
    "else\n",
    "    b\n",
    "end\n",
    "```"
   ]
  },
  {
   "cell_type": "markdown",
   "id": "9d7710f5-9ff6-457b-8324-38f1b80155a7",
   "metadata": {},
   "source": [
    "### Short-circuit evaluation"
   ]
  },
  {
   "cell_type": "code",
   "execution_count": 5,
   "id": "27583791-9429-4e58-8273-e9c26aa2ab38",
   "metadata": {},
   "outputs": [
    {
     "data": {
      "text/plain": [
       "false"
      ]
     },
     "execution_count": 5,
     "metadata": {},
     "output_type": "execute_result"
    }
   ],
   "source": [
    "x > y && println(\"$x is greater than $y\")"
   ]
  },
  {
   "cell_type": "code",
   "execution_count": 6,
   "id": "b0a8323a-ac8a-4c83-8d96-061ea9d2df5d",
   "metadata": {},
   "outputs": [
    {
     "name": "stdout",
     "output_type": "stream",
     "text": [
      "69 is lesser than 96\n"
     ]
    }
   ],
   "source": [
    "x < y && println(\"$x is lesser than $y\")"
   ]
  }
 ],
 "metadata": {
  "kernelspec": {
   "display_name": "Julia 1.8.0",
   "language": "julia",
   "name": "julia-1.8"
  },
  "language_info": {
   "file_extension": ".jl",
   "mimetype": "application/julia",
   "name": "julia",
   "version": "1.8.0"
  }
 },
 "nbformat": 4,
 "nbformat_minor": 5
}
