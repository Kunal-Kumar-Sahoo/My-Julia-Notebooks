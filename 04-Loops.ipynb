{
 "cells": [
  {
   "cell_type": "markdown",
   "id": "4ad7f2e3-a7fc-477e-a192-d5420f1f8285",
   "metadata": {},
   "source": [
    "# Loops\n",
    "Topics:\n",
    "- `while` loops\n",
    "- `for` loops"
   ]
  },
  {
   "cell_type": "code",
   "execution_count": 3,
   "id": "a1f694bf-250f-4124-8648-9025097a68b8",
   "metadata": {},
   "outputs": [
    {
     "name": "stdout",
     "output_type": "stream",
     "text": [
      "1 2 3 4 5 6 7 8 9 10 "
     ]
    }
   ],
   "source": [
    "n = 0\n",
    "while n < 10\n",
    "    n += 1\n",
    "    print(\"$n \")\n",
    "end"
   ]
  },
  {
   "cell_type": "code",
   "execution_count": 4,
   "id": "0be2d779-ba8a-49b8-9cba-e4f341384a75",
   "metadata": {},
   "outputs": [
    {
     "name": "stdout",
     "output_type": "stream",
     "text": [
      "Rashida is my friend\n",
      "Diya is my friend\n",
      "Anuj is my friend\n",
      "Dev is my friend\n",
      "Tanish is my friend\n",
      "Abhinav is my friend\n"
     ]
    }
   ],
   "source": [
    "my_friends = [\"Rashida\", \"Diya\", \"Anuj\", \"Dev\", \"Tanish\", \"Abhinav\"]\n",
    "i = 1\n",
    "while i <= length(my_friends)\n",
    "    println(\"$(my_friends[i]) is my friend\")\n",
    "    i += 1\n",
    "end"
   ]
  },
  {
   "cell_type": "code",
   "execution_count": 5,
   "id": "ee4700c6-d470-44ab-ba46-674b68ce4662",
   "metadata": {},
   "outputs": [
    {
     "name": "stdout",
     "output_type": "stream",
     "text": [
      "1 2 3 4 5 6 7 8 9 10 "
     ]
    }
   ],
   "source": [
    "for n in 1:10\n",
    "    print(\"$n \")\n",
    "end"
   ]
  },
  {
   "cell_type": "code",
   "execution_count": 7,
   "id": "b1e7b548-df03-4a96-a1fd-abe330b3cf23",
   "metadata": {},
   "outputs": [
    {
     "name": "stdout",
     "output_type": "stream",
     "text": [
      "Rashida is my friend\n",
      "Diya is my friend\n",
      "Anuj is my friend\n",
      "Dev is my friend\n",
      "Tanish is my friend\n",
      "Abhinav is my friend\n"
     ]
    }
   ],
   "source": [
    "for friend in my_friends\n",
    "    println(\"$friend is my friend\")\n",
    "end"
   ]
  },
  {
   "cell_type": "markdown",
   "id": "4d75db63-ebec-4022-8f04-4a8dd8fb461b",
   "metadata": {},
   "source": [
    "We can replace `in` with `∈`"
   ]
  },
  {
   "cell_type": "code",
   "execution_count": 8,
   "id": "c0bf58f5-662b-483a-9cf9-c748d949b7e0",
   "metadata": {},
   "outputs": [
    {
     "name": "stdout",
     "output_type": "stream",
     "text": [
      "Rashida is my friend\n",
      "Diya is my friend\n",
      "Anuj is my friend\n",
      "Dev is my friend\n",
      "Tanish is my friend\n",
      "Abhinav is my friend\n"
     ]
    }
   ],
   "source": [
    "for friend ∈ my_friends\n",
    "    println(\"$friend is my friend\")\n",
    "end"
   ]
  },
  {
   "cell_type": "markdown",
   "id": "c4d171be-210a-40b6-ae31-0e6475a64cdf",
   "metadata": {},
   "source": [
    "### Exercise"
   ]
  },
  {
   "cell_type": "code",
   "execution_count": 9,
   "id": "2482f86f-a024-456a-aec9-19150b8ffa68",
   "metadata": {},
   "outputs": [
    {
     "data": {
      "text/plain": [
       "5×5 Matrix{Float64}:\n",
       " 0.0  0.0  0.0  0.0  0.0\n",
       " 0.0  0.0  0.0  0.0  0.0\n",
       " 0.0  0.0  0.0  0.0  0.0\n",
       " 0.0  0.0  0.0  0.0  0.0\n",
       " 0.0  0.0  0.0  0.0  0.0"
      ]
     },
     "execution_count": 9,
     "metadata": {},
     "output_type": "execute_result"
    }
   ],
   "source": [
    "m, n = 5, 5\n",
    "A = zeros(m, n)"
   ]
  },
  {
   "cell_type": "code",
   "execution_count": 11,
   "id": "c5ff3a35-dfd6-4cad-a0d7-0a6b98a40a8c",
   "metadata": {},
   "outputs": [
    {
     "data": {
      "text/plain": [
       "5×5 Matrix{Float64}:\n",
       " 1.0  2.0  3.0  4.0  5.0\n",
       " 2.0  3.0  4.0  5.0  6.0\n",
       " 3.0  4.0  5.0  6.0  7.0\n",
       " 4.0  5.0  6.0  7.0  8.0\n",
       " 5.0  6.0  7.0  8.0  9.0"
      ]
     },
     "execution_count": 11,
     "metadata": {},
     "output_type": "execute_result"
    }
   ],
   "source": [
    "for i ∈ 1:m\n",
    "    for j ∈ 1:n\n",
    "        A[i, j] = i + j - 1\n",
    "    end\n",
    "end\n",
    "A"
   ]
  },
  {
   "cell_type": "code",
   "execution_count": 12,
   "id": "eab80b4d-9487-49e5-91f5-9c07ae7a9f74",
   "metadata": {},
   "outputs": [
    {
     "data": {
      "text/plain": [
       "5×5 Matrix{Float64}:\n",
       " 0.0  0.0  0.0  0.0  0.0\n",
       " 0.0  0.0  0.0  0.0  0.0\n",
       " 0.0  0.0  0.0  0.0  0.0\n",
       " 0.0  0.0  0.0  0.0  0.0\n",
       " 0.0  0.0  0.0  0.0  0.0"
      ]
     },
     "execution_count": 12,
     "metadata": {},
     "output_type": "execute_result"
    }
   ],
   "source": [
    "m, n = 5, 5\n",
    "B = zeros(m, n)"
   ]
  },
  {
   "cell_type": "code",
   "execution_count": 13,
   "id": "40d94328-ba24-4fa1-b181-375c0e1788a0",
   "metadata": {},
   "outputs": [
    {
     "data": {
      "text/plain": [
       "5×5 Matrix{Float64}:\n",
       " 1.0  2.0  3.0  4.0  5.0\n",
       " 2.0  3.0  4.0  5.0  6.0\n",
       " 3.0  4.0  5.0  6.0  7.0\n",
       " 4.0  5.0  6.0  7.0  8.0\n",
       " 5.0  6.0  7.0  8.0  9.0"
      ]
     },
     "execution_count": 13,
     "metadata": {},
     "output_type": "execute_result"
    }
   ],
   "source": [
    "for i ∈ 1:m, j ∈ 1:n\n",
    "    B[i, j] = i+j-1\n",
    "end\n",
    "B"
   ]
  },
  {
   "cell_type": "code",
   "execution_count": 14,
   "id": "31b102d2-f7de-40c0-b201-4a76db70184b",
   "metadata": {},
   "outputs": [
    {
     "data": {
      "text/plain": [
       "5×5 Matrix{Float64}:\n",
       " 0.0  0.0  0.0  0.0  0.0\n",
       " 0.0  0.0  0.0  0.0  0.0\n",
       " 0.0  0.0  0.0  0.0  0.0\n",
       " 0.0  0.0  0.0  0.0  0.0\n",
       " 0.0  0.0  0.0  0.0  0.0"
      ]
     },
     "execution_count": 14,
     "metadata": {},
     "output_type": "execute_result"
    }
   ],
   "source": [
    "m, n = 5, 5\n",
    "C = zeros(m, n)"
   ]
  },
  {
   "cell_type": "markdown",
   "id": "cd969b2a-122a-4e93-a4b6-5780309ae614",
   "metadata": {},
   "source": [
    "More \"Julia\" way to create this addition table would have been with an <i>array comprehension</i>"
   ]
  },
  {
   "cell_type": "code",
   "execution_count": 18,
   "id": "6c92ec74-0555-43e6-b1ac-8407693b9b7c",
   "metadata": {},
   "outputs": [
    {
     "data": {
      "text/plain": [
       "5×5 Matrix{Int64}:\n",
       " 1  2  3  4  5\n",
       " 2  3  4  5  6\n",
       " 3  4  5  6  7\n",
       " 4  5  6  7  8\n",
       " 5  6  7  8  9"
      ]
     },
     "execution_count": 18,
     "metadata": {},
     "output_type": "execute_result"
    }
   ],
   "source": [
    "C = zeros(m, n)\n",
    "C = [i + j - 1 for i ∈ 1:m, j ∈ 1:n]"
   ]
  },
  {
   "cell_type": "code",
   "execution_count": 19,
   "id": "06040dc8-866a-4d00-bf79-55b128c5bdf0",
   "metadata": {},
   "outputs": [
    {
     "data": {
      "text/plain": [
       "1×1 Matrix{Int64}:\n",
       " 2"
      ]
     },
     "metadata": {},
     "output_type": "display_data"
    },
    {
     "data": {
      "text/plain": [
       "2×2 Matrix{Int64}:\n",
       " 2  3\n",
       " 3  4"
      ]
     },
     "metadata": {},
     "output_type": "display_data"
    },
    {
     "data": {
      "text/plain": [
       "3×3 Matrix{Int64}:\n",
       " 2  3  4\n",
       " 3  4  5\n",
       " 4  5  6"
      ]
     },
     "metadata": {},
     "output_type": "display_data"
    },
    {
     "data": {
      "text/plain": [
       "4×4 Matrix{Int64}:\n",
       " 2  3  4  5\n",
       " 3  4  5  6\n",
       " 4  5  6  7\n",
       " 5  6  7  8"
      ]
     },
     "metadata": {},
     "output_type": "display_data"
    },
    {
     "data": {
      "text/plain": [
       "5×5 Matrix{Int64}:\n",
       " 2  3  4  5   6\n",
       " 3  4  5  6   7\n",
       " 4  5  6  7   8\n",
       " 5  6  7  8   9\n",
       " 6  7  8  9  10"
      ]
     },
     "metadata": {},
     "output_type": "display_data"
    },
    {
     "data": {
      "text/plain": [
       "6×6 Matrix{Int64}:\n",
       " 2  3  4   5   6   7\n",
       " 3  4  5   6   7   8\n",
       " 4  5  6   7   8   9\n",
       " 5  6  7   8   9  10\n",
       " 6  7  8   9  10  11\n",
       " 7  8  9  10  11  12"
      ]
     },
     "metadata": {},
     "output_type": "display_data"
    },
    {
     "data": {
      "text/plain": [
       "7×7 Matrix{Int64}:\n",
       " 2  3   4   5   6   7   8\n",
       " 3  4   5   6   7   8   9\n",
       " 4  5   6   7   8   9  10\n",
       " 5  6   7   8   9  10  11\n",
       " 6  7   8   9  10  11  12\n",
       " 7  8   9  10  11  12  13\n",
       " 8  9  10  11  12  13  14"
      ]
     },
     "metadata": {},
     "output_type": "display_data"
    },
    {
     "data": {
      "text/plain": [
       "8×8 Matrix{Int64}:\n",
       " 2   3   4   5   6   7   8   9\n",
       " 3   4   5   6   7   8   9  10\n",
       " 4   5   6   7   8   9  10  11\n",
       " 5   6   7   8   9  10  11  12\n",
       " 6   7   8   9  10  11  12  13\n",
       " 7   8   9  10  11  12  13  14\n",
       " 8   9  10  11  12  13  14  15\n",
       " 9  10  11  12  13  14  15  16"
      ]
     },
     "metadata": {},
     "output_type": "display_data"
    },
    {
     "data": {
      "text/plain": [
       "9×9 Matrix{Int64}:\n",
       "  2   3   4   5   6   7   8   9  10\n",
       "  3   4   5   6   7   8   9  10  11\n",
       "  4   5   6   7   8   9  10  11  12\n",
       "  5   6   7   8   9  10  11  12  13\n",
       "  6   7   8   9  10  11  12  13  14\n",
       "  7   8   9  10  11  12  13  14  15\n",
       "  8   9  10  11  12  13  14  15  16\n",
       "  9  10  11  12  13  14  15  16  17\n",
       " 10  11  12  13  14  15  16  17  18"
      ]
     },
     "metadata": {},
     "output_type": "display_data"
    },
    {
     "data": {
      "text/plain": [
       "10×10 Matrix{Int64}:\n",
       "  2   3   4   5   6   7   8   9  10  11\n",
       "  3   4   5   6   7   8   9  10  11  12\n",
       "  4   5   6   7   8   9  10  11  12  13\n",
       "  5   6   7   8   9  10  11  12  13  14\n",
       "  6   7   8   9  10  11  12  13  14  15\n",
       "  7   8   9  10  11  12  13  14  15  16\n",
       "  8   9  10  11  12  13  14  15  16  17\n",
       "  9  10  11  12  13  14  15  16  17  18\n",
       " 10  11  12  13  14  15  16  17  18  19\n",
       " 11  12  13  14  15  16  17  18  19  20"
      ]
     },
     "metadata": {},
     "output_type": "display_data"
    }
   ],
   "source": [
    "for n ∈ 1:10\n",
    "    A = [i + j for i ∈ 1:n, j ∈ 1:n]\n",
    "    display(A)\n",
    "end    "
   ]
  }
 ],
 "metadata": {
  "kernelspec": {
   "display_name": "Julia 1.8.0",
   "language": "julia",
   "name": "julia-1.8"
  },
  "language_info": {
   "file_extension": ".jl",
   "mimetype": "application/julia",
   "name": "julia",
   "version": "1.8.0"
  }
 },
 "nbformat": 4,
 "nbformat_minor": 5
}
