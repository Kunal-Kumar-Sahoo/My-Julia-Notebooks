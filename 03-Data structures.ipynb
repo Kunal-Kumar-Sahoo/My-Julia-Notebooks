{
 "cells": [
  {
   "cell_type": "markdown",
   "id": "4ad73c5c-7031-41ba-a28d-545710779ded",
   "metadata": {},
   "source": [
    "# Data structures\n",
    "- Dictionaries\n",
    "- Tuples\n",
    "- Arrays\n",
    "\n",
    "Tuples and arrays are both **ordered-sequences** of elements (we can index them).\n",
    "\n",
    "Dictionaries and arrays are both **mutable**"
   ]
  },
  {
   "cell_type": "markdown",
   "id": "31be3aa9-0b75-4fc2-b1bd-35b62f03d3ed",
   "metadata": {},
   "source": [
    "### Dictionaries"
   ]
  },
  {
   "cell_type": "code",
   "execution_count": 13,
   "id": "86780628-9a9b-4f2e-b942-2db23f240452",
   "metadata": {},
   "outputs": [
    {
     "data": {
      "text/plain": [
       "Dict{String, String} with 2 entries:\n",
       "  \"Kunal\" => \"kunal.sce21@sot.pdpu.ac.in\"\n",
       "  \"Anuj\"  => \"anuj.pce21@sot.pdpu.ac.in\""
      ]
     },
     "execution_count": 13,
     "metadata": {},
     "output_type": "execute_result"
    }
   ],
   "source": [
    "contact_book = Dict(\n",
    "    \"Kunal\" => \"kunal.sce21@sot.pdpu.ac.in\",\n",
    "    \"Anuj\" => \"anuj.pce21@sot.pdpu.ac.in\"\n",
    ")"
   ]
  },
  {
   "cell_type": "code",
   "execution_count": 14,
   "id": "10223b95-a328-401e-a6bd-5838e03ab83b",
   "metadata": {},
   "outputs": [
    {
     "data": {
      "text/plain": [
       "\"rashida.kce21@sot.pdpu.ac.in\""
      ]
     },
     "execution_count": 14,
     "metadata": {},
     "output_type": "execute_result"
    }
   ],
   "source": [
    "contact_book[\"Rashida\"] = \"rashida.kce21@sot.pdpu.ac.in\""
   ]
  },
  {
   "cell_type": "code",
   "execution_count": 9,
   "id": "d8b2d4d2-6902-47df-b223-29e6b98d3bdd",
   "metadata": {},
   "outputs": [
    {
     "data": {
      "text/plain": [
       "Dict{String, String} with 3 entries:\n",
       "  \"Kunal\"   => \"kunal.sce21@sot.pdpu.ac.in\"\n",
       "  \"Anuj\"    => \"anuj.pce21@sot.pdpu.ac.in\"\n",
       "  \"Rashida\" => \"rashida.kce21@sot.pdpu.ac.in\""
      ]
     },
     "execution_count": 9,
     "metadata": {},
     "output_type": "execute_result"
    }
   ],
   "source": [
    "contact_book"
   ]
  },
  {
   "cell_type": "code",
   "execution_count": 15,
   "id": "a8895c83-4b5d-490a-9edc-f9a4105cee41",
   "metadata": {},
   "outputs": [
    {
     "name": "stdout",
     "output_type": "stream",
     "text": [
      "Dict(\"Kunal\" => \"kunal.sce21@sot.pdpu.ac.in\", \"Rashida\" => \"rashida.kce21@sot.pdpu.ac.in\")\n"
     ]
    }
   ],
   "source": [
    "pop!(contact_book, \"Anuj\") #! denotes the changes will happen in-place itself\n",
    "println(contact_book)"
   ]
  },
  {
   "cell_type": "markdown",
   "id": "7f2265a5-92b2-416a-beb8-3741e3271227",
   "metadata": {},
   "source": [
    "### Tuples"
   ]
  },
  {
   "cell_type": "code",
   "execution_count": 16,
   "id": "1fe6bba6-816a-4f45-b25b-3e646270cd13",
   "metadata": {},
   "outputs": [
    {
     "data": {
      "text/plain": [
       "(\"Python3\", \"Julia\", \"C++\", \"Java\")"
      ]
     },
     "execution_count": 16,
     "metadata": {},
     "output_type": "execute_result"
    }
   ],
   "source": [
    "programming_langs = (\"Python3\", \"Julia\", \"C++\", \"Java\")"
   ]
  },
  {
   "cell_type": "code",
   "execution_count": 17,
   "id": "24308c36-12da-4eef-98cc-6c32a2129482",
   "metadata": {},
   "outputs": [
    {
     "data": {
      "text/plain": [
       "\"Python3\""
      ]
     },
     "execution_count": 17,
     "metadata": {},
     "output_type": "execute_result"
    }
   ],
   "source": [
    "programming_langs[1] # Indexing in julia starts with 1"
   ]
  },
  {
   "cell_type": "code",
   "execution_count": 18,
   "id": "aaaf55c7-e751-4eff-a775-bf899463a9ea",
   "metadata": {},
   "outputs": [
    {
     "data": {
      "text/plain": [
       "\"Java\""
      ]
     },
     "execution_count": 18,
     "metadata": {},
     "output_type": "execute_result"
    }
   ],
   "source": [
    "programming_langs[end]"
   ]
  },
  {
   "cell_type": "code",
   "execution_count": 19,
   "id": "1b3f8917-378a-4945-ba28-9eeadf36d5df",
   "metadata": {},
   "outputs": [
    {
     "ename": "LoadError",
     "evalue": "MethodError: no method matching setindex!(::NTuple{4, String}, ::String, ::Int64)",
     "output_type": "error",
     "traceback": [
      "MethodError: no method matching setindex!(::NTuple{4, String}, ::String, ::Int64)",
      "",
      "Stacktrace:",
      " [1] top-level scope",
      "   @ In[19]:1",
      " [2] eval",
      "   @ ./boot.jl:368 [inlined]",
      " [3] include_string(mapexpr::typeof(REPL.softscope), mod::Module, code::String, filename::String)",
      "   @ Base ./loading.jl:1428"
     ]
    }
   ],
   "source": [
    "programming_langs[3] = \"C\" # tuples are immutable"
   ]
  },
  {
   "cell_type": "markdown",
   "id": "1657bed1-f2d2-45b6-a8ab-4b2703f5fd0c",
   "metadata": {},
   "source": [
    "### Arrays"
   ]
  },
  {
   "cell_type": "code",
   "execution_count": 25,
   "id": "e4e9284c-3959-4cb6-93fd-cb56c230d8be",
   "metadata": {},
   "outputs": [
    {
     "data": {
      "text/plain": [
       "4-element Vector{String}:\n",
       " \"Rashida\"\n",
       " \"Dev\"\n",
       " \"Tanish\"\n",
       " \"Anuj\""
      ]
     },
     "execution_count": 25,
     "metadata": {},
     "output_type": "execute_result"
    }
   ],
   "source": [
    "friends = [\"Rashida\", \"Dev\", \"Tanish\", \"Anuj\"]"
   ]
  },
  {
   "cell_type": "code",
   "execution_count": 21,
   "id": "597271ae-1b0a-4a55-a4cb-3650f2800d37",
   "metadata": {},
   "outputs": [
    {
     "data": {
      "text/plain": [
       "9-element Vector{Int64}:\n",
       "  1\n",
       "  1\n",
       "  2\n",
       "  3\n",
       "  5\n",
       "  8\n",
       " 13\n",
       " 21\n",
       " 34"
      ]
     },
     "execution_count": 21,
     "metadata": {},
     "output_type": "execute_result"
    }
   ],
   "source": [
    "fibo = [\n",
    "    1, 1, 2, 3, 5, 8, 13, 21, 34\n",
    "]"
   ]
  },
  {
   "cell_type": "code",
   "execution_count": 22,
   "id": "14caa1eb-06ce-45c9-8179-290fd0ee541a",
   "metadata": {},
   "outputs": [
    {
     "data": {
      "text/plain": [
       "3-element Vector{Any}:\n",
       "    \"Kunal\"\n",
       " 100\n",
       "   9.96"
      ]
     },
     "execution_count": 22,
     "metadata": {},
     "output_type": "execute_result"
    }
   ],
   "source": [
    "mix = [\n",
    "    \"Kunal\", 100, 9.96\n",
    "]"
   ]
  },
  {
   "cell_type": "code",
   "execution_count": 26,
   "id": "9a9ba605-be29-4b2a-9963-ca5ec7f59352",
   "metadata": {},
   "outputs": [
    {
     "name": "stdout",
     "output_type": "stream",
     "text": [
      "[\"Rashida\", \"Dev\", \"Tanish\", \"Anuj\"]\n"
     ]
    },
    {
     "data": {
      "text/plain": [
       "4-element Vector{String}:\n",
       " \"Rashida\"\n",
       " \"Diya\"\n",
       " \"Tanish\"\n",
       " \"Anuj\""
      ]
     },
     "execution_count": 26,
     "metadata": {},
     "output_type": "execute_result"
    }
   ],
   "source": [
    "println(friends)\n",
    "friends[2] = \"Diya\"\n",
    "friends"
   ]
  },
  {
   "cell_type": "code",
   "execution_count": 29,
   "id": "2d2ba8fe-8de5-4304-bd3a-e640504245fa",
   "metadata": {},
   "outputs": [
    {
     "data": {
      "text/plain": [
       "10-element Vector{Int64}:\n",
       "  1\n",
       "  1\n",
       "  2\n",
       "  3\n",
       "  5\n",
       "  8\n",
       " 13\n",
       " 21\n",
       " 34\n",
       " 55"
      ]
     },
     "execution_count": 29,
     "metadata": {},
     "output_type": "execute_result"
    }
   ],
   "source": [
    "push!(fibo, 55)\n",
    "fibo"
   ]
  },
  {
   "cell_type": "code",
   "execution_count": 30,
   "id": "6efa5aa0-23dc-4010-b540-39ad0cf8ab1f",
   "metadata": {},
   "outputs": [
    {
     "name": "stdout",
     "output_type": "stream",
     "text": [
      "55\n",
      "[1, 1, 2, 3, 5, 8, 13, 21, 34]\n"
     ]
    }
   ],
   "source": [
    "println(pop!(fibo))\n",
    "println(fibo)"
   ]
  },
  {
   "cell_type": "code",
   "execution_count": 36,
   "id": "7583b2b8-486f-4ae7-abf8-8c610d2a0495",
   "metadata": {},
   "outputs": [
    {
     "data": {
      "text/plain": [
       "25-element Vector{Char}:\n",
       " 'b': ASCII/Unicode U+0062 (category Ll: Letter, lowercase)\n",
       " 'c': ASCII/Unicode U+0063 (category Ll: Letter, lowercase)\n",
       " 'd': ASCII/Unicode U+0064 (category Ll: Letter, lowercase)\n",
       " 'e': ASCII/Unicode U+0065 (category Ll: Letter, lowercase)\n",
       " 'f': ASCII/Unicode U+0066 (category Ll: Letter, lowercase)\n",
       " 'g': ASCII/Unicode U+0067 (category Ll: Letter, lowercase)\n",
       " 'h': ASCII/Unicode U+0068 (category Ll: Letter, lowercase)\n",
       " 'i': ASCII/Unicode U+0069 (category Ll: Letter, lowercase)\n",
       " 'j': ASCII/Unicode U+006A (category Ll: Letter, lowercase)\n",
       " 'k': ASCII/Unicode U+006B (category Ll: Letter, lowercase)\n",
       " 'l': ASCII/Unicode U+006C (category Ll: Letter, lowercase)\n",
       " 'm': ASCII/Unicode U+006D (category Ll: Letter, lowercase)\n",
       " 'n': ASCII/Unicode U+006E (category Ll: Letter, lowercase)\n",
       " 'o': ASCII/Unicode U+006F (category Ll: Letter, lowercase)\n",
       " 'p': ASCII/Unicode U+0070 (category Ll: Letter, lowercase)\n",
       " 'q': ASCII/Unicode U+0071 (category Ll: Letter, lowercase)\n",
       " 'r': ASCII/Unicode U+0072 (category Ll: Letter, lowercase)\n",
       " 's': ASCII/Unicode U+0073 (category Ll: Letter, lowercase)\n",
       " 't': ASCII/Unicode U+0074 (category Ll: Letter, lowercase)\n",
       " 'u': ASCII/Unicode U+0075 (category Ll: Letter, lowercase)\n",
       " 'v': ASCII/Unicode U+0076 (category Ll: Letter, lowercase)\n",
       " 'w': ASCII/Unicode U+0077 (category Ll: Letter, lowercase)\n",
       " 'x': ASCII/Unicode U+0078 (category Ll: Letter, lowercase)\n",
       " 'y': ASCII/Unicode U+0079 (category Ll: Letter, lowercase)\n",
       " 'z': ASCII/Unicode U+007A (category Ll: Letter, lowercase)"
      ]
     },
     "execution_count": 36,
     "metadata": {},
     "output_type": "execute_result"
    }
   ],
   "source": [
    "arr = ['a', 'b', 'c', 'd', 'e', 'f', 'g', 'h', 'i', 'j', 'k', 'l', 'm', 'n', 'o', 'p', 'q', 'r', 's', 't', 'u', 'v', 'w', 'x', 'y', 'z']\n",
    "deleteat!(arr, 1)\n",
    "arr"
   ]
  },
  {
   "cell_type": "code",
   "execution_count": 37,
   "id": "25e60b20-2298-47dc-a4e5-77c18904f0ed",
   "metadata": {},
   "outputs": [
    {
     "data": {
      "text/plain": [
       "24-element Vector{Char}:\n",
       " 'c': ASCII/Unicode U+0063 (category Ll: Letter, lowercase)\n",
       " 'd': ASCII/Unicode U+0064 (category Ll: Letter, lowercase)\n",
       " 'e': ASCII/Unicode U+0065 (category Ll: Letter, lowercase)\n",
       " 'f': ASCII/Unicode U+0066 (category Ll: Letter, lowercase)\n",
       " 'g': ASCII/Unicode U+0067 (category Ll: Letter, lowercase)\n",
       " 'h': ASCII/Unicode U+0068 (category Ll: Letter, lowercase)\n",
       " 'i': ASCII/Unicode U+0069 (category Ll: Letter, lowercase)\n",
       " 'j': ASCII/Unicode U+006A (category Ll: Letter, lowercase)\n",
       " 'k': ASCII/Unicode U+006B (category Ll: Letter, lowercase)\n",
       " 'l': ASCII/Unicode U+006C (category Ll: Letter, lowercase)\n",
       " 'm': ASCII/Unicode U+006D (category Ll: Letter, lowercase)\n",
       " 'n': ASCII/Unicode U+006E (category Ll: Letter, lowercase)\n",
       " 'o': ASCII/Unicode U+006F (category Ll: Letter, lowercase)\n",
       " 'p': ASCII/Unicode U+0070 (category Ll: Letter, lowercase)\n",
       " 'q': ASCII/Unicode U+0071 (category Ll: Letter, lowercase)\n",
       " 'r': ASCII/Unicode U+0072 (category Ll: Letter, lowercase)\n",
       " 's': ASCII/Unicode U+0073 (category Ll: Letter, lowercase)\n",
       " 't': ASCII/Unicode U+0074 (category Ll: Letter, lowercase)\n",
       " 'u': ASCII/Unicode U+0075 (category Ll: Letter, lowercase)\n",
       " 'v': ASCII/Unicode U+0076 (category Ll: Letter, lowercase)\n",
       " 'w': ASCII/Unicode U+0077 (category Ll: Letter, lowercase)\n",
       " 'x': ASCII/Unicode U+0078 (category Ll: Letter, lowercase)\n",
       " 'y': ASCII/Unicode U+0079 (category Ll: Letter, lowercase)\n",
       " 'z': ASCII/Unicode U+007A (category Ll: Letter, lowercase)"
      ]
     },
     "execution_count": 37,
     "metadata": {},
     "output_type": "execute_result"
    }
   ],
   "source": [
    "filter!(e->e!='b', arr)\n",
    "arr"
   ]
  },
  {
   "cell_type": "code",
   "execution_count": 38,
   "id": "56745109-f381-45c9-a2e3-d59edd868a25",
   "metadata": {},
   "outputs": [
    {
     "name": "stdout",
     "output_type": "stream",
     "text": [
      "['c', 'd', 'f', 'g', 'h', 'j', 'k', 'l', 'm', 'n', 'p', 'q', 'r', 's', 't', 'v', 'w', 'x', 'y', 'z']\n"
     ]
    }
   ],
   "source": [
    "filter!(e -> !(e in ['a', 'e', 'i', 'o', 'u']), arr)\n",
    "println(arr)"
   ]
  },
  {
   "cell_type": "code",
   "execution_count": 39,
   "id": "a2b4f242-bfac-49dd-886c-76205721fc4c",
   "metadata": {},
   "outputs": [
    {
     "data": {
      "text/plain": [
       "3-element Vector{Vector{Int64}}:\n",
       " [1, 2, 3]\n",
       " [4, 5]\n",
       " [6, 7, 8, 9]"
      ]
     },
     "execution_count": 39,
     "metadata": {},
     "output_type": "execute_result"
    }
   ],
   "source": [
    "# array of arrays\n",
    "numbers = [[1, 2, 3], [4, 5], [6, 7, 8, 9]]"
   ]
  },
  {
   "cell_type": "markdown",
   "id": "ea07d1e1-40e6-4594-8051-7b1941eb3384",
   "metadata": {},
   "source": [
    "#### Matrices"
   ]
  },
  {
   "cell_type": "code",
   "execution_count": 41,
   "id": "5940a535-3636-4c39-b960-a0dc08da2898",
   "metadata": {},
   "outputs": [
    {
     "data": {
      "text/plain": [
       "4×3 Matrix{Float64}:\n",
       " 0.79183   0.2316     0.19016\n",
       " 0.15783   0.0203963  0.564392\n",
       " 0.937101  0.789949   0.19231\n",
       " 0.779104  0.97407    0.379558"
      ]
     },
     "execution_count": 41,
     "metadata": {},
     "output_type": "execute_result"
    }
   ],
   "source": [
    "rand(4, 3) # 2-D array of dimensions 4x3"
   ]
  },
  {
   "cell_type": "code",
   "execution_count": 42,
   "id": "84d9572a-ab60-43df-a565-0aab96ff612d",
   "metadata": {},
   "outputs": [
    {
     "data": {
      "text/plain": [
       "4×3×2 Array{Float64, 3}:\n",
       "[:, :, 1] =\n",
       " 0.89865    0.316587  0.826482\n",
       " 0.649764   0.495598  0.786699\n",
       " 0.0254572  0.026472  0.201225\n",
       " 0.669537   0.9306    0.605236\n",
       "\n",
       "[:, :, 2] =\n",
       " 0.171411  0.768771   0.597105\n",
       " 0.993273  0.025405   0.0544125\n",
       " 0.117368  0.966804   0.273642\n",
       " 0.725217  0.0826586  0.228387"
      ]
     },
     "execution_count": 42,
     "metadata": {},
     "output_type": "execute_result"
    }
   ],
   "source": [
    "rand(4, 3, 2) # 3-D array"
   ]
  },
  {
   "cell_type": "code",
   "execution_count": null,
   "id": "5df379cd-6eed-4a80-a469-41583432ae22",
   "metadata": {},
   "outputs": [],
   "source": []
  }
 ],
 "metadata": {
  "kernelspec": {
   "display_name": "Julia 1.8.0",
   "language": "julia",
   "name": "julia-1.8"
  },
  "language_info": {
   "file_extension": ".jl",
   "mimetype": "application/julia",
   "name": "julia",
   "version": "1.8.0"
  }
 },
 "nbformat": 4,
 "nbformat_minor": 5
}
