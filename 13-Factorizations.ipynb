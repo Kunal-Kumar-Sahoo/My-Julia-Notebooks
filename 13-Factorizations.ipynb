{
 "cells": [
  {
   "cell_type": "markdown",
   "id": "ee9a4217-b2bf-4127-b941-eb152c16e33a",
   "metadata": {},
   "source": [
    "# Factorizations and other function\n",
    "\n",
    "Content:\n",
    "- Factorizations\n",
    "- Special matrix structures\n",
    "- Generic linear algebra"
   ]
  },
  {
   "cell_type": "code",
   "execution_count": 1,
   "id": "c9c39371-c006-4383-8312-71835f63ca9f",
   "metadata": {},
   "outputs": [],
   "source": [
    "using LinearAlgebra"
   ]
  },
  {
   "cell_type": "code",
   "execution_count": 2,
   "id": "7a2d320a-a19e-48d1-a88a-d4e3ef46103a",
   "metadata": {},
   "outputs": [
    {
     "data": {
      "text/plain": [
       "3-element Vector{Float64}:\n",
       " 2.0480371411533476\n",
       " 2.2139294662465567\n",
       " 0.7961745228814958"
      ]
     },
     "execution_count": 2,
     "metadata": {},
     "output_type": "execute_result"
    }
   ],
   "source": [
    "A = rand(3, 3)\n",
    "x = fill(1, (3,))\n",
    "b = A * x"
   ]
  },
  {
   "cell_type": "markdown",
   "id": "cda3e7bb-e764-46dd-807e-35c27b00b4a5",
   "metadata": {},
   "source": [
    "## Factorization\n",
    "### LU Factorization\n",
    "In Julia, we can perform an LU factorization\n",
    "$$\n",
    "PA = LU\n",
    "$$\n",
    "where $P$ is a permutation matrix, $L$ is lower-triangular unit diagonal and $U$ is upper triangular using `lufact`"
   ]
  },
  {
   "cell_type": "code",
   "execution_count": 3,
   "id": "f1bbcf36-57b0-48ca-8855-6b9490d2887f",
   "metadata": {},
   "outputs": [
    {
     "data": {
      "text/plain": [
       "LU{Float64, Matrix{Float64}, Vector{Int64}}\n",
       "L factor:\n",
       "3×3 Matrix{Float64}:\n",
       " 1.0       0.0       0.0\n",
       " 0.496991  1.0       0.0\n",
       " 0.304724  0.613189  1.0\n",
       "U factor:\n",
       "3×3 Matrix{Float64}:\n",
       " 0.941379  0.743373   0.529177\n",
       " 0.0       0.306921   0.640814\n",
       " 0.0       0.0       -0.459604"
      ]
     },
     "execution_count": 3,
     "metadata": {},
     "output_type": "execute_result"
    }
   ],
   "source": [
    "A_lu = lu(A)"
   ]
  },
  {
   "cell_type": "code",
   "execution_count": 4,
   "id": "bd386218-8c4e-4ece-88e8-2b353f0ed875",
   "metadata": {},
   "outputs": [
    {
     "data": {
      "text/plain": [
       "LU{Float64, Matrix{Float64}, Vector{Int64}}"
      ]
     },
     "execution_count": 4,
     "metadata": {},
     "output_type": "execute_result"
    }
   ],
   "source": [
    "typeof(A_lu)"
   ]
  },
  {
   "cell_type": "code",
   "execution_count": 5,
   "id": "e9f2c107-34e9-4366-a5e4-882dce8434da",
   "metadata": {},
   "outputs": [
    {
     "data": {
      "text/plain": [
       "3×3 Matrix{Float64}:\n",
       " 0.0  1.0  0.0\n",
       " 1.0  0.0  0.0\n",
       " 0.0  0.0  1.0"
      ]
     },
     "execution_count": 5,
     "metadata": {},
     "output_type": "execute_result"
    }
   ],
   "source": [
    "# Different parts of the factorization can be extracted by accessing their special properties.\n",
    "A_lu.P"
   ]
  },
  {
   "cell_type": "code",
   "execution_count": 6,
   "id": "dab067b6-0dd1-44a3-a164-e9633974e096",
   "metadata": {},
   "outputs": [
    {
     "data": {
      "text/plain": [
       "3×3 Matrix{Float64}:\n",
       " 1.0       0.0       0.0\n",
       " 0.496991  1.0       0.0\n",
       " 0.304724  0.613189  1.0"
      ]
     },
     "execution_count": 6,
     "metadata": {},
     "output_type": "execute_result"
    }
   ],
   "source": [
    "A_lu.L"
   ]
  },
  {
   "cell_type": "code",
   "execution_count": 7,
   "id": "6d773c47-5694-4e44-aa20-2f5bca288294",
   "metadata": {},
   "outputs": [
    {
     "data": {
      "text/plain": [
       "3×3 Matrix{Float64}:\n",
       " 0.941379  0.743373   0.529177\n",
       " 0.0       0.306921   0.640814\n",
       " 0.0       0.0       -0.459604"
      ]
     },
     "execution_count": 7,
     "metadata": {},
     "output_type": "execute_result"
    }
   ],
   "source": [
    "A_lu.U"
   ]
  },
  {
   "cell_type": "code",
   "execution_count": 8,
   "id": "211b9ea9-7260-4516-9f61-807c2943c64c",
   "metadata": {},
   "outputs": [
    {
     "data": {
      "text/plain": [
       "3-element Vector{Float64}:\n",
       " 1.0\n",
       " 1.0\n",
       " 0.9999999999999998"
      ]
     },
     "execution_count": 8,
     "metadata": {},
     "output_type": "execute_result"
    }
   ],
   "source": [
    "A \\ b"
   ]
  },
  {
   "cell_type": "code",
   "execution_count": 9,
   "id": "1cd808a7-4845-4182-9165-e14a2eb48e3c",
   "metadata": {},
   "outputs": [
    {
     "data": {
      "text/plain": [
       "3-element Vector{Float64}:\n",
       " 1.0\n",
       " 1.0\n",
       " 0.9999999999999998"
      ]
     },
     "execution_count": 9,
     "metadata": {},
     "output_type": "execute_result"
    }
   ],
   "source": [
    "A_lu \\ b"
   ]
  },
  {
   "cell_type": "code",
   "execution_count": 10,
   "id": "3b3302ac-c80e-4b56-8578-ea05bebc023c",
   "metadata": {},
   "outputs": [
    {
     "data": {
      "text/plain": [
       "true"
      ]
     },
     "execution_count": 10,
     "metadata": {},
     "output_type": "execute_result"
    }
   ],
   "source": [
    "det(A) ≈ det(A_lu)"
   ]
  },
  {
   "cell_type": "markdown",
   "id": "8b87fe44-e19e-4294-9f14-964da9372bfa",
   "metadata": {},
   "source": [
    "### QR Factorization\n",
    "In Julia we can perform QR factorization\n",
    "$$\n",
    "A = QR\n",
    "$$\n",
    "where $Q$ is unitary/orthogonal and $R$ is upper triangular, using `qrfact`"
   ]
  },
  {
   "cell_type": "code",
   "execution_count": 11,
   "id": "980d4c3a-0085-4d71-bd0c-cf7a92ad12d1",
   "metadata": {},
   "outputs": [
    {
     "data": {
      "text/plain": [
       "LinearAlgebra.QRCompactWY{Float64, Matrix{Float64}, Matrix{Float64}}\n",
       "Q factor:\n",
       "3×3 LinearAlgebra.QRCompactWYQ{Float64, Matrix{Float64}, Matrix{Float64}}:\n",
       " -0.429357   0.736475  -0.522739\n",
       " -0.863915  -0.503638   2.10041e-5\n",
       " -0.263256   0.451611   0.852493\n",
       "R factor:\n",
       "3×3 Matrix{Float64}:\n",
       " -1.08967  -1.04179   -0.870123\n",
       "  0.0       0.311033   0.441837\n",
       "  0.0       0.0       -0.391809"
      ]
     },
     "execution_count": 11,
     "metadata": {},
     "output_type": "execute_result"
    }
   ],
   "source": [
    "A_qr = qr(A)"
   ]
  },
  {
   "cell_type": "code",
   "execution_count": 12,
   "id": "a43465ba-ff7a-4a6a-b85e-b5212a289308",
   "metadata": {},
   "outputs": [
    {
     "data": {
      "text/plain": [
       "3×3 LinearAlgebra.QRCompactWYQ{Float64, Matrix{Float64}, Matrix{Float64}}:\n",
       " -0.429357   0.736475  -0.522739\n",
       " -0.863915  -0.503638   2.10041e-5\n",
       " -0.263256   0.451611   0.852493"
      ]
     },
     "metadata": {},
     "output_type": "display_data"
    },
    {
     "data": {
      "text/plain": [
       "3×3 Matrix{Float64}:\n",
       " -1.08967  -1.04179   -0.870123\n",
       "  0.0       0.311033   0.441837\n",
       "  0.0       0.0       -0.391809"
      ]
     },
     "metadata": {},
     "output_type": "display_data"
    }
   ],
   "source": [
    "display(A_qr.Q)\n",
    "display(A_qr.R)"
   ]
  },
  {
   "cell_type": "markdown",
   "id": "5eff670b-a99e-4360-a10c-b11897fa2b1a",
   "metadata": {},
   "source": [
    "### Eigendecompositions\n",
    "The results of **eigendecompositions**, **singular value decompostions**, **Hessenberg factorizations** and **Schur decompositions** are all stored in `Factorization` types"
   ]
  },
  {
   "cell_type": "code",
   "execution_count": 13,
   "id": "6f68b517-890f-453e-87e0-1bec57d50e31",
   "metadata": {},
   "outputs": [
    {
     "data": {
      "text/plain": [
       "Eigen{Float64, Float64, Matrix{Float64}, Vector{Float64}}\n",
       "values:\n",
       "3-element Vector{Float64}:\n",
       " -0.7308569108653329\n",
       " -0.179833710782355\n",
       "  3.522327988579561\n",
       "vectors:\n",
       "3×3 Matrix{Float64}:\n",
       " -0.700291   0.367801  -0.611812\n",
       "  0.222098  -0.702258  -0.676392\n",
       "  0.678428   0.609554  -0.410097"
      ]
     },
     "execution_count": 13,
     "metadata": {},
     "output_type": "execute_result"
    }
   ],
   "source": [
    "A_sym = A + A'\n",
    "A_sym_eig = eigen(A_sym)"
   ]
  },
  {
   "cell_type": "code",
   "execution_count": 14,
   "id": "236d505e-7cda-47f7-a43f-f2607a29a3fd",
   "metadata": {},
   "outputs": [
    {
     "data": {
      "text/plain": [
       "3-element Vector{Float64}:\n",
       " -0.7308569108653329\n",
       " -0.179833710782355\n",
       "  3.522327988579561"
      ]
     },
     "execution_count": 14,
     "metadata": {},
     "output_type": "execute_result"
    }
   ],
   "source": [
    "A_sym_eig.values"
   ]
  },
  {
   "cell_type": "code",
   "execution_count": 15,
   "id": "05937d43-9b52-444b-8358-51d358621ed1",
   "metadata": {},
   "outputs": [
    {
     "data": {
      "text/plain": [
       "3×3 Matrix{Float64}:\n",
       " -0.700291   0.367801  -0.611812\n",
       "  0.222098  -0.702258  -0.676392\n",
       "  0.678428   0.609554  -0.410097"
      ]
     },
     "execution_count": 15,
     "metadata": {},
     "output_type": "execute_result"
    }
   ],
   "source": [
    "A_sym_eig.vectors"
   ]
  },
  {
   "cell_type": "markdown",
   "id": "b8c0b9a2-6e36-478e-abc9-01a374e11f87",
   "metadata": {},
   "source": [
    "Once again, when the factorization is stored in a type, we can dispatch on it nd write specialized methods that exploit the properties of the factorization\n",
    "$$\n",
    "A^{-1} = (V \\Lambda V^{-1})^{-1} = V \\Lambda^{-1} V^{-1}\n",
    "$$"
   ]
  },
  {
   "cell_type": "code",
   "execution_count": 16,
   "id": "ba8a3d5d-526c-41ca-80be-0daf60536ac7",
   "metadata": {},
   "outputs": [
    {
     "data": {
      "text/plain": [
       "3×3 Matrix{Float64}:\n",
       "  1.0          1.11022e-15  -1.80411e-16\n",
       "  4.44089e-15  1.0           2.83107e-15\n",
       " -2.22045e-15  0.0           1.0"
      ]
     },
     "execution_count": 16,
     "metadata": {},
     "output_type": "execute_result"
    }
   ],
   "source": [
    "inv(A_sym_eig) * A_sym"
   ]
  },
  {
   "cell_type": "markdown",
   "id": "9566d9d4-dd47-41c1-b2a3-d7d2927d9d2a",
   "metadata": {},
   "source": [
    "## Special Matrix structures"
   ]
  },
  {
   "cell_type": "code",
   "execution_count": 17,
   "id": "2ef7a230-d8f0-4976-95d2-06db9f758caa",
   "metadata": {},
   "outputs": [
    {
     "data": {
      "text/plain": [
       "1000×1000 Matrix{Float64}:\n",
       " -0.50793     0.981547    0.351176   …   3.22514    -0.381069   1.04113\n",
       " -1.06938    -0.525056   -0.0477118      1.28586     0.701666   0.212681\n",
       " -0.942576    0.210602    1.52381       -1.47803    -0.909186  -0.857656\n",
       " -0.0561967  -0.510016    0.526716       0.89517    -0.819901   1.00179\n",
       "  1.06058     0.814295   -0.257572      -0.945304   -0.671743   0.870537\n",
       "  1.70034     1.67588     1.00097    …  -0.688229   -0.169766  -1.62548\n",
       "  1.1494     -0.795443   -0.464705       0.0036973   0.776381  -0.550444\n",
       "  0.687841   -1.81082    -0.459102       0.353646    0.130244   0.244185\n",
       "  1.53002     1.44342    -0.652674       0.748282    0.973836   0.964153\n",
       "  1.0103     -1.53889    -0.0148233      1.04747     0.880351   2.04014\n",
       "  0.56673     0.39814    -1.57063    …   0.580584    0.559908  -0.357225\n",
       " -2.18601     0.19511     1.28552       -0.721073    0.549615  -1.23656\n",
       " -1.34578    -0.534536    0.86776       -0.655126   -0.389484  -1.14669\n",
       "  ⋮                                  ⋱                         \n",
       " -0.30693     0.0917106  -1.33065        0.791796   -0.504178  -0.979427\n",
       " -2.79605    -1.73781     0.808089       0.686843    0.506625   0.476039\n",
       "  1.1285     -1.03307     0.12636    …  -0.366787    1.6479     0.700064\n",
       " -0.560457   -0.313394   -0.595137      -0.092568    1.59643   -0.202167\n",
       "  0.985254   -0.541042    0.465022       0.767605    0.227333  -1.09567\n",
       "  1.32849     2.69914     0.417992       0.841293    0.367684   0.180815\n",
       " -0.974223    1.22267     1.0441         0.751819    1.534      0.445949\n",
       "  0.10273     0.640281   -0.465745   …  -1.03386     1.0902     1.67241\n",
       "  0.917377   -0.595742    1.36066        1.55004     0.514143  -0.518432\n",
       "  0.782732   -0.258782    0.819332      -1.5043      0.528065   1.60129\n",
       "  1.1759      1.81815    -1.35577       -1.35469    -0.668504   3.00669\n",
       "  2.31965    -0.203086    0.470983      -0.322523   -2.17145    1.60576"
      ]
     },
     "execution_count": 17,
     "metadata": {},
     "output_type": "execute_result"
    }
   ],
   "source": [
    "n = 1000\n",
    "A = randn(n, n)"
   ]
  },
  {
   "cell_type": "code",
   "execution_count": 19,
   "id": "aa1d3d05-189a-4c24-8a8c-787928b79476",
   "metadata": {},
   "outputs": [
    {
     "data": {
      "text/plain": [
       "true"
      ]
     },
     "execution_count": 19,
     "metadata": {},
     "output_type": "execute_result"
    }
   ],
   "source": [
    "A_sym = A + A'\n",
    "issymmetric(A_sym)"
   ]
  },
  {
   "cell_type": "code",
   "execution_count": 20,
   "id": "0b8bacf7-cfa0-4b74-8c71-0cf9cad8c52d",
   "metadata": {},
   "outputs": [
    {
     "data": {
      "text/plain": [
       "-0.08783341541199674"
      ]
     },
     "execution_count": 20,
     "metadata": {},
     "output_type": "execute_result"
    }
   ],
   "source": [
    "A_sym_noisy = copy(A_sym)\n",
    "A_sym_noisy[1, 2] += 5eps()"
   ]
  },
  {
   "cell_type": "code",
   "execution_count": 21,
   "id": "aeff1cf8-dec7-47ae-bf7a-d97e4af42680",
   "metadata": {},
   "outputs": [
    {
     "data": {
      "text/plain": [
       "false"
      ]
     },
     "execution_count": 21,
     "metadata": {},
     "output_type": "execute_result"
    }
   ],
   "source": [
    "issymmetric(A_sym_noisy)"
   ]
  },
  {
   "cell_type": "markdown",
   "id": "3b5cc678-eb37-4454-af1f-e4e8c421b4f9",
   "metadata": {},
   "source": [
    "We can declare structure explicitly with, for example, `Diagonal`, `Triangular`, `Symmetric`, `Hermitian`, `Tridiagonal` and `SymTridiagonal`."
   ]
  },
  {
   "cell_type": "code",
   "execution_count": 22,
   "id": "7e1a4b68-910a-46c7-ba97-49076a485e44",
   "metadata": {},
   "outputs": [
    {
     "data": {
      "text/plain": [
       "1000×1000 Symmetric{Float64, Matrix{Float64}}:\n",
       " -1.01586     -0.0878334   -0.5914     …   4.00787    0.794827    3.36078\n",
       " -0.0878334   -1.05011      0.16289        1.02708    2.51981     0.00959512\n",
       " -0.5914       0.16289      3.04761       -0.658697  -2.26496    -0.386673\n",
       "  0.600279    -1.34162      1.72417       -1.17891   -0.626687    1.61043\n",
       "  1.83095      1.97494      0.221614      -2.94642    0.105315    0.320651\n",
       "  0.686259     1.90585     -0.160415   …  -0.347892   0.0778152  -1.62384\n",
       "  1.15851     -1.18212      0.56097       -1.46126    0.28443    -1.6749\n",
       "  0.00132147  -1.11342     -0.0493752     -0.79936   -1.91196    -0.320238\n",
       "  1.24116      0.666954     1.19279        2.4541     0.609114    2.04177\n",
       "  4.29445     -2.75113     -1.33272        1.06724    0.951487    3.04863\n",
       "  1.75061     -0.140462    -0.432768   …  -0.236452   0.105869   -1.78579\n",
       " -0.981132     1.3882       0.806632      -1.89442    2.14343    -1.07246\n",
       " -0.875667    -1.41673      1.05711        1.00752   -0.393904   -3.16867\n",
       "  ⋮                                    ⋱                         \n",
       "  0.809418     0.548987    -1.18654        2.42526   -2.15707    -1.10439\n",
       " -2.86163     -3.40635      2.26315       -0.24746    1.37601     0.968484\n",
       " -0.680711    -1.76154      1.57116    …   0.102395   2.34768     1.18699\n",
       "  0.195135     0.409631     0.72879        0.732183   0.742366    0.0334621\n",
       "  1.01976     -1.3857       0.0497559      2.21242   -0.435844   -1.32062\n",
       "  0.764011     2.09492      0.733007       0.127124   0.881936    0.474848\n",
       " -0.369836     0.778674     2.4285        -0.045954   0.770359   -0.816552\n",
       " -0.927489    -1.4945      -0.741572   …  -0.59295    0.304891    3.05499\n",
       "  3.1016       0.227864     0.616298       1.29222    1.86403    -1.30978\n",
       "  4.00787      1.02708     -0.658697      -3.00861   -0.826622    1.27877\n",
       "  0.794827     2.51981     -2.26496       -0.826622  -1.33701     0.835235\n",
       "  3.36078      0.00959512  -0.386673       1.27877    0.835235    3.21152"
      ]
     },
     "execution_count": 22,
     "metadata": {},
     "output_type": "execute_result"
    }
   ],
   "source": [
    "A_sym_explicit = Symmetric(A_sym_noisy)"
   ]
  },
  {
   "cell_type": "code",
   "execution_count": 24,
   "id": "fbbb11fb-f887-4905-87ed-3f974571a235",
   "metadata": {},
   "outputs": [
    {
     "name": "stdout",
     "output_type": "stream",
     "text": [
      "  0.056047 seconds (11 allocations: 7.989 MiB)\n"
     ]
    }
   ],
   "source": [
    "@time eigvals(A_sym);"
   ]
  },
  {
   "cell_type": "code",
   "execution_count": 25,
   "id": "0c0267e0-0d66-4011-beed-7c6e62eb0063",
   "metadata": {},
   "outputs": [
    {
     "name": "stdout",
     "output_type": "stream",
     "text": [
      "  0.549464 seconds (13 allocations: 7.920 MiB, 39.04% gc time)\n"
     ]
    }
   ],
   "source": [
    "@time eigvals(A_sym_noisy);"
   ]
  },
  {
   "cell_type": "code",
   "execution_count": 26,
   "id": "9563483c-187c-4758-80fe-50a51e5329cd",
   "metadata": {},
   "outputs": [
    {
     "name": "stdout",
     "output_type": "stream",
     "text": [
      "  0.048680 seconds (11 allocations: 7.989 MiB)\n"
     ]
    }
   ],
   "source": [
    "@time eigvals(A_sym_explicit);"
   ]
  },
  {
   "cell_type": "markdown",
   "id": "84e02e7e-d4b1-4486-b1e5-da91f5a7ae45",
   "metadata": {},
   "source": [
    "In this example, using `Symmetric()` on `A_sym_noisy` made our calculations about `12x` more efficient"
   ]
  },
  {
   "cell_type": "markdown",
   "id": "01d2af89-ab43-47d2-a62b-fe46507db7a7",
   "metadata": {},
   "source": [
    "##### A big problem\n",
    "Using `Tridiagonal` and `SymTridiagonal` types to store tridiagonal matrices makes it possible to work with potentially very large tridiagonal problems. The following problem would not have been possible to solve on a laptop if the matrix had to be stored as a (dense) `Matrix` type"
   ]
  },
  {
   "cell_type": "code",
   "execution_count": 27,
   "id": "9e1a4a43-87d5-4c6b-ac3f-07adb5906ee0",
   "metadata": {},
   "outputs": [
    {
     "name": "stdout",
     "output_type": "stream",
     "text": [
      "  1.064151 seconds (1.18 M allocations: 243.227 MiB, 19.70% gc time, 44.51% compilation time)\n"
     ]
    },
    {
     "data": {
      "text/plain": [
       "6.696852161302326"
      ]
     },
     "execution_count": 27,
     "metadata": {},
     "output_type": "execute_result"
    }
   ],
   "source": [
    "n = 1_000_000\n",
    "A = SymTridiagonal(randn(n), randn(n-1));\n",
    "@time eigmax(A)"
   ]
  },
  {
   "cell_type": "markdown",
   "id": "07030cbd-41eb-4fcc-b989-0bfd788d076b",
   "metadata": {},
   "source": [
    "## Generic Linear Algebra\n",
    "The usual way of dding support for numerical linear algebra is by wrapping BLAS and LAPACK subroutines. For matrices with elements of `Float32`, `Float64`, `Complex{Float32}` or `Complex{Float64}` this is what also Julia does.\n",
    "\n",
    "However, Julia also supports generic linear algebra, allowing to work with matrices and vectors of rational numbers."
   ]
  },
  {
   "cell_type": "markdown",
   "id": "1e733bce-1e89-4e73-a0eb-e37582812af4",
   "metadata": {},
   "source": [
    "### Rational numbers\n",
    "Julia has rational numbers built-in. To construct a rational number, use double forward slash `//`."
   ]
  },
  {
   "cell_type": "code",
   "execution_count": 28,
   "id": "620ca9ee-beae-48a6-a0fe-a6b539a64600",
   "metadata": {},
   "outputs": [
    {
     "data": {
      "text/plain": [
       "3×3 Matrix{Rational{BigInt}}:\n",
       " 3//10  2//5  4//5\n",
       " 3//10  1//2  7//10\n",
       " 9//10  1//5  7//10"
      ]
     },
     "execution_count": 28,
     "metadata": {},
     "output_type": "execute_result"
    }
   ],
   "source": [
    "A_rational = Matrix{Rational{BigInt}}(rand(1:10, 3, 3)) / 10"
   ]
  },
  {
   "cell_type": "code",
   "execution_count": 29,
   "id": "0dca8f54-4f58-4b2e-bb9b-b8bcbe055dc0",
   "metadata": {},
   "outputs": [
    {
     "data": {
      "text/plain": [
       "3-element Vector{Int64}:\n",
       " 1\n",
       " 1\n",
       " 1"
      ]
     },
     "execution_count": 29,
     "metadata": {},
     "output_type": "execute_result"
    }
   ],
   "source": [
    "x = fill(1, 3)"
   ]
  },
  {
   "cell_type": "code",
   "execution_count": 33,
   "id": "acb0e3b0-9cf5-44b2-b03d-ed35bab5d372",
   "metadata": {},
   "outputs": [
    {
     "data": {
      "text/plain": [
       "3-element Vector{Rational{BigInt}}:\n",
       " 3//2\n",
       " 3//2\n",
       " 9//5"
      ]
     },
     "execution_count": 33,
     "metadata": {},
     "output_type": "execute_result"
    }
   ],
   "source": [
    "b = A_rational * x"
   ]
  },
  {
   "cell_type": "code",
   "execution_count": 34,
   "id": "3e09dc81-46d1-4c85-87d5-470ea41c14f1",
   "metadata": {},
   "outputs": [
    {
     "data": {
      "text/plain": [
       "3-element Vector{Rational{BigInt}}:\n",
       " 1//1\n",
       " 1//1\n",
       " 1//1"
      ]
     },
     "execution_count": 34,
     "metadata": {},
     "output_type": "execute_result"
    }
   ],
   "source": [
    "A_rational \\ b"
   ]
  },
  {
   "cell_type": "code",
   "execution_count": 35,
   "id": "d8634fab-885c-49fb-9e9d-523a2601f03e",
   "metadata": {},
   "outputs": [
    {
     "data": {
      "text/plain": [
       "LU{Rational{BigInt}, Matrix{Rational{BigInt}}, Vector{Int64}}\n",
       "L factor:\n",
       "3×3 Matrix{Rational{BigInt}}:\n",
       " 1//1   0//1   0//1\n",
       " 1//3   1//1   0//1\n",
       " 1//3  10//13  1//1\n",
       "U factor:\n",
       "3×3 Matrix{Rational{BigInt}}:\n",
       " 9//10   1//5    7//10\n",
       " 0//1   13//30   7//15\n",
       " 0//1    0//1   27//130"
      ]
     },
     "execution_count": 35,
     "metadata": {},
     "output_type": "execute_result"
    }
   ],
   "source": [
    "lu(A_rational)"
   ]
  }
 ],
 "metadata": {
  "kernelspec": {
   "display_name": "Julia 1.8.0",
   "language": "julia",
   "name": "julia-1.8"
  },
  "language_info": {
   "file_extension": ".jl",
   "mimetype": "application/julia",
   "name": "julia",
   "version": "1.8.0"
  }
 },
 "nbformat": 4,
 "nbformat_minor": 5
}
