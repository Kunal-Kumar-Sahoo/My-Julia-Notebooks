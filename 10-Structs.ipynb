{
 "cells": [
  {
   "cell_type": "markdown",
   "id": "70cafc13-0825-4a9f-ad00-bae89c0dccf4",
   "metadata": {},
   "source": [
    "# Structs in Julia\n",
    "\n",
    "There are two types of structs:\n",
    "- Immutable \n",
    "- Mutable"
   ]
  },
  {
   "cell_type": "markdown",
   "id": "804575ae-9ce5-41d6-9aa6-31ba03f55e6a",
   "metadata": {},
   "source": [
    "### Immutable structs"
   ]
  },
  {
   "cell_type": "code",
   "execution_count": 1,
   "id": "c23b1fd4-ce12-472b-869a-4e3c5d93219c",
   "metadata": {},
   "outputs": [],
   "source": [
    "struct myObj\n",
    "    field1\n",
    "    field2\n",
    "end"
   ]
  },
  {
   "cell_type": "code",
   "execution_count": 2,
   "id": "8fd42803-1172-4ff6-b76a-6c3774249ed1",
   "metadata": {},
   "outputs": [
    {
     "data": {
      "text/plain": [
       "myObj(\"Hello\", \"World\")"
      ]
     },
     "execution_count": 2,
     "metadata": {},
     "output_type": "execute_result"
    }
   ],
   "source": [
    "myob1 = myObj(\"Hello\", \"World\")"
   ]
  },
  {
   "cell_type": "code",
   "execution_count": 3,
   "id": "6df62104-917d-4e91-ba93-4ddfc8942dda",
   "metadata": {},
   "outputs": [
    {
     "data": {
      "text/plain": [
       "\"Hello\""
      ]
     },
     "execution_count": 3,
     "metadata": {},
     "output_type": "execute_result"
    }
   ],
   "source": [
    "myob1.field1"
   ]
  },
  {
   "cell_type": "code",
   "execution_count": 4,
   "id": "4b8e4fdb-e089-479c-b7d2-efebee490186",
   "metadata": {},
   "outputs": [
    {
     "ename": "LoadError",
     "evalue": "type myObj has no field field",
     "output_type": "error",
     "traceback": [
      "type myObj has no field field",
      "",
      "Stacktrace:",
      " [1] setproperty!(x::myObj, f::Symbol, v::String)",
      "   @ Base ./Base.jl:39",
      " [2] top-level scope",
      "   @ In[4]:1",
      " [3] eval",
      "   @ ./boot.jl:368 [inlined]",
      " [4] include_string(mapexpr::typeof(REPL.softscope), mod::Module, code::String, filename::String)",
      "   @ Base ./loading.jl:1428"
     ]
    }
   ],
   "source": [
    "myob1.field = \"Hello 2\""
   ]
  },
  {
   "cell_type": "markdown",
   "id": "a17acf4c-8fdc-47c0-bdcd-187bee0ab271",
   "metadata": {},
   "source": [
    "### Mutable structs"
   ]
  },
  {
   "cell_type": "code",
   "execution_count": 5,
   "id": "ae3ad132-4eeb-4579-9b6d-ef0070ebeca3",
   "metadata": {},
   "outputs": [],
   "source": [
    "mutable struct Person \n",
    "    name::String\n",
    "    age::Int\n",
    "end"
   ]
  },
  {
   "cell_type": "code",
   "execution_count": 6,
   "id": "df6f4726-4dbe-47a4-845b-ea949df230a8",
   "metadata": {},
   "outputs": [
    {
     "data": {
      "text/plain": [
       "Person(\"Kunal Kumar Sahoo\", 19)"
      ]
     },
     "execution_count": 6,
     "metadata": {},
     "output_type": "execute_result"
    }
   ],
   "source": [
    "kunal = Person(\"Kunal Kumar Sahoo\", 19)"
   ]
  },
  {
   "cell_type": "code",
   "execution_count": 7,
   "id": "17d42f5c-f4f1-4908-8f5a-00bed2c87eaa",
   "metadata": {},
   "outputs": [
    {
     "data": {
      "text/plain": [
       "20"
      ]
     },
     "execution_count": 7,
     "metadata": {},
     "output_type": "execute_result"
    }
   ],
   "source": [
    "kunal.age += 1"
   ]
  },
  {
   "cell_type": "code",
   "execution_count": 8,
   "id": "9fa0e7cf-d062-4ad2-976c-5f853fd3d6bd",
   "metadata": {},
   "outputs": [
    {
     "data": {
      "text/plain": [
       "Person(\"Kunal Kumar Sahoo\", 20)"
      ]
     },
     "execution_count": 8,
     "metadata": {},
     "output_type": "execute_result"
    }
   ],
   "source": [
    "kunal"
   ]
  },
  {
   "cell_type": "code",
   "execution_count": 9,
   "id": "e698da11-c7cc-4752-99ed-0e20ffff278e",
   "metadata": {},
   "outputs": [
    {
     "ename": "LoadError",
     "evalue": "MethodError: \u001b[0mCannot `convert` an object of type \u001b[92mInt64\u001b[39m\u001b[0m to an object of type \u001b[91mString\u001b[39m\n\u001b[0mClosest candidates are:\n\u001b[0m  convert(::Type{String}, \u001b[91m::String\u001b[39m) at essentials.jl:218\n\u001b[0m  convert(::Type{T}, \u001b[91m::T\u001b[39m) where T<:AbstractString at strings/basic.jl:231\n\u001b[0m  convert(::Type{T}, \u001b[91m::AbstractString\u001b[39m) where T<:AbstractString at strings/basic.jl:232\n\u001b[0m  ...",
     "output_type": "error",
     "traceback": [
      "MethodError: \u001b[0mCannot `convert` an object of type \u001b[92mInt64\u001b[39m\u001b[0m to an object of type \u001b[91mString\u001b[39m\n\u001b[0mClosest candidates are:\n\u001b[0m  convert(::Type{String}, \u001b[91m::String\u001b[39m) at essentials.jl:218\n\u001b[0m  convert(::Type{T}, \u001b[91m::T\u001b[39m) where T<:AbstractString at strings/basic.jl:231\n\u001b[0m  convert(::Type{T}, \u001b[91m::AbstractString\u001b[39m) where T<:AbstractString at strings/basic.jl:232\n\u001b[0m  ...",
      "",
      "Stacktrace:",
      " [1] Person(name::Int64, age::Int64)",
      "   @ Main ./In[5]:2",
      " [2] top-level scope",
      "   @ In[9]:1",
      " [3] eval",
      "   @ ./boot.jl:368 [inlined]",
      " [4] include_string(mapexpr::typeof(REPL.softscope), mod::Module, code::String, filename::String)",
      "   @ Base ./loading.jl:1428"
     ]
    }
   ],
   "source": [
    "rashida = Person(20, 20)"
   ]
  },
  {
   "cell_type": "markdown",
   "id": "6bbdacf0-91fd-411b-b73d-feee6c458718",
   "metadata": {},
   "source": [
    "### Custom constructor"
   ]
  },
  {
   "cell_type": "code",
   "execution_count": 15,
   "id": "e9e7b71c-8146-49df-aa2e-060728951a23",
   "metadata": {},
   "outputs": [],
   "source": [
    "mutable struct Person2\n",
    "    name::String\n",
    "    age::Int\n",
    "    is_active\n",
    "    \n",
    "    function Person2(name, age, is_active)\n",
    "        new(name, age, is_active)\n",
    "    end\n",
    "    \n",
    "    function Person2(name, age)\n",
    "        new(name, age, true)\n",
    "    end\n",
    "end"
   ]
  },
  {
   "cell_type": "code",
   "execution_count": 16,
   "id": "e3aec107-c04e-438c-a212-76bce905536e",
   "metadata": {},
   "outputs": [
    {
     "data": {
      "text/plain": [
       "Person2(\"Kunal Kumar Sahoo\", 19, true)"
      ]
     },
     "execution_count": 16,
     "metadata": {},
     "output_type": "execute_result"
    }
   ],
   "source": [
    "kunal = Person2(\"Kunal Kumar Sahoo\", 19)"
   ]
  },
  {
   "cell_type": "code",
   "execution_count": 17,
   "id": "286866f9-154e-42f3-9972-5f1805d99048",
   "metadata": {},
   "outputs": [
    {
     "data": {
      "text/plain": [
       "Person2(\"Rashida Kadiwala\", 19, false)"
      ]
     },
     "execution_count": 17,
     "metadata": {},
     "output_type": "execute_result"
    }
   ],
   "source": [
    "rashida = Person2(\"Rashida Kadiwala\", 19, false)"
   ]
  },
  {
   "cell_type": "code",
   "execution_count": 18,
   "id": "9a7a16f2-9d20-4d5e-af8f-8584fd96d17e",
   "metadata": {},
   "outputs": [
    {
     "data": {
      "text/plain": [
       "birthday (generic function with 1 method)"
      ]
     },
     "execution_count": 18,
     "metadata": {},
     "output_type": "execute_result"
    }
   ],
   "source": [
    "function birthday(person::Person2)\n",
    "    person.age += 1\n",
    "end"
   ]
  },
  {
   "cell_type": "code",
   "execution_count": 19,
   "id": "358cd0e7-8fcd-4ea0-996b-fdc067649dc7",
   "metadata": {},
   "outputs": [
    {
     "data": {
      "text/plain": [
       "20"
      ]
     },
     "execution_count": 19,
     "metadata": {},
     "output_type": "execute_result"
    }
   ],
   "source": [
    "birthday(rashida)"
   ]
  },
  {
   "cell_type": "code",
   "execution_count": 20,
   "id": "a43054b6-d7f8-46d6-bc32-ce9a88dd0282",
   "metadata": {},
   "outputs": [
    {
     "data": {
      "text/plain": [
       "20"
      ]
     },
     "execution_count": 20,
     "metadata": {},
     "output_type": "execute_result"
    }
   ],
   "source": [
    "rashida.age"
   ]
  },
  {
   "cell_type": "code",
   "execution_count": null,
   "id": "de7de5b1-f285-401e-93b9-cadbb2840c3c",
   "metadata": {},
   "outputs": [],
   "source": []
  }
 ],
 "metadata": {
  "kernelspec": {
   "display_name": "Julia 1.8.0",
   "language": "julia",
   "name": "julia-1.8"
  },
  "language_info": {
   "file_extension": ".jl",
   "mimetype": "application/julia",
   "name": "julia",
   "version": "1.8.0"
  }
 },
 "nbformat": 4,
 "nbformat_minor": 5
}
