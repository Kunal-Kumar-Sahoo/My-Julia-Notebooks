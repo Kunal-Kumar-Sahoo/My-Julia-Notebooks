{
 "cells": [
  {
   "cell_type": "markdown",
   "id": "68699ddc-a3a3-432d-b22b-a5c2452cd7e0",
   "metadata": {},
   "source": [
    "# Functions\n",
    "Topics:\n",
    "- How to declare a function\n",
    "- Duck-typing in Julia\n",
    "- Mutating vs Non-mutating functions\n",
    "- Broadcasting"
   ]
  },
  {
   "cell_type": "markdown",
   "id": "66ae6a6e-e692-4c14-8179-b21b4b0166c5",
   "metadata": {},
   "source": [
    "### How to declare a function"
   ]
  },
  {
   "cell_type": "markdown",
   "id": "c99210b1-b326-45ad-98c4-d21369348eb9",
   "metadata": {},
   "source": [
    "#### Method 1: Use the `function` and `end` keyword"
   ]
  },
  {
   "cell_type": "code",
   "execution_count": 1,
   "id": "4172c454-f8f6-4a72-94ce-c32dcb706f45",
   "metadata": {},
   "outputs": [
    {
     "data": {
      "text/plain": [
       "greet (generic function with 1 method)"
      ]
     },
     "execution_count": 1,
     "metadata": {},
     "output_type": "execute_result"
    }
   ],
   "source": [
    "function greet(name)\n",
    "    println(\"Hello, $name\")\n",
    "end"
   ]
  },
  {
   "cell_type": "code",
   "execution_count": 2,
   "id": "485bce2b-cd03-41bf-a3d9-5920c3433680",
   "metadata": {},
   "outputs": [
    {
     "data": {
      "text/plain": [
       "f (generic function with 1 method)"
      ]
     },
     "execution_count": 2,
     "metadata": {},
     "output_type": "execute_result"
    }
   ],
   "source": [
    "function f(x)\n",
    "    x ^ 2\n",
    "end"
   ]
  },
  {
   "cell_type": "code",
   "execution_count": 3,
   "id": "fc94f7c6-2bf5-4d59-9854-553968dd844f",
   "metadata": {},
   "outputs": [
    {
     "name": "stdout",
     "output_type": "stream",
     "text": [
      "Hello, Kunal\n",
      "9\n"
     ]
    }
   ],
   "source": [
    "greet(\"Kunal\")\n",
    "println(f(3))"
   ]
  },
  {
   "cell_type": "markdown",
   "id": "dc593583-3c7b-4248-bdf8-f2ec482b43e1",
   "metadata": {},
   "source": [
    "#### Method 2: Declare them in a single line"
   ]
  },
  {
   "cell_type": "code",
   "execution_count": 4,
   "id": "6d0215fc-d562-4ff9-aa11-22c1e3c9bf52",
   "metadata": {},
   "outputs": [
    {
     "data": {
      "text/plain": [
       "greet2 (generic function with 1 method)"
      ]
     },
     "execution_count": 4,
     "metadata": {},
     "output_type": "execute_result"
    }
   ],
   "source": [
    "greet2(name) = println(\"Hello, $name\")"
   ]
  },
  {
   "cell_type": "code",
   "execution_count": 5,
   "id": "af9023cb-7f3f-4402-9ba0-b7a9188ccf15",
   "metadata": {},
   "outputs": [
    {
     "data": {
      "text/plain": [
       "f2 (generic function with 1 method)"
      ]
     },
     "execution_count": 5,
     "metadata": {},
     "output_type": "execute_result"
    }
   ],
   "source": [
    "f2(x) = x ^ 2"
   ]
  },
  {
   "cell_type": "code",
   "execution_count": 6,
   "id": "f03e0b65-07d4-4434-9676-5081538a8dbe",
   "metadata": {},
   "outputs": [
    {
     "name": "stdout",
     "output_type": "stream",
     "text": [
      "Hello, R2D2\n"
     ]
    },
    {
     "data": {
      "text/plain": [
       "4761"
      ]
     },
     "execution_count": 6,
     "metadata": {},
     "output_type": "execute_result"
    }
   ],
   "source": [
    "greet2(\"R2D2\")\n",
    "f2(69)"
   ]
  },
  {
   "cell_type": "markdown",
   "id": "bc9e0a61-8d65-4d73-a710-7d6d465b8d03",
   "metadata": {},
   "source": [
    "#### Method 3: Declare them as \"anonymous\" functions"
   ]
  },
  {
   "cell_type": "code",
   "execution_count": 7,
   "id": "62ed2d5d-b943-49ad-a67f-40d97e0f7031",
   "metadata": {},
   "outputs": [
    {
     "data": {
      "text/plain": [
       "#1 (generic function with 1 method)"
      ]
     },
     "execution_count": 7,
     "metadata": {},
     "output_type": "execute_result"
    }
   ],
   "source": [
    "greet3 = name -> println(\"Hello, $name\")"
   ]
  },
  {
   "cell_type": "code",
   "execution_count": 8,
   "id": "c8451b83-9fad-43f1-affd-dc465c65d5b9",
   "metadata": {},
   "outputs": [
    {
     "data": {
      "text/plain": [
       "#3 (generic function with 1 method)"
      ]
     },
     "execution_count": 8,
     "metadata": {},
     "output_type": "execute_result"
    }
   ],
   "source": [
    "f3 = x -> x ^ 2"
   ]
  },
  {
   "cell_type": "code",
   "execution_count": 9,
   "id": "9e3ee190-553c-46e6-841e-74a277c4ca5b",
   "metadata": {},
   "outputs": [
    {
     "name": "stdout",
     "output_type": "stream",
     "text": [
      "Hello, Rashida\n"
     ]
    },
    {
     "data": {
      "text/plain": [
       "3025"
      ]
     },
     "execution_count": 9,
     "metadata": {},
     "output_type": "execute_result"
    }
   ],
   "source": [
    "greet(\"Rashida\")\n",
    "f3(55)"
   ]
  },
  {
   "cell_type": "markdown",
   "id": "3eea23a9-0101-47a5-9083-28be6d73dae7",
   "metadata": {},
   "source": [
    "### Duck-typing in Julia\n",
    "Julia functions will work on whatever input makes sense"
   ]
  },
  {
   "cell_type": "code",
   "execution_count": 10,
   "id": "e394ae86-26f3-4a5a-a1df-817941a90f43",
   "metadata": {},
   "outputs": [
    {
     "name": "stdout",
     "output_type": "stream",
     "text": [
      "Hello, 1234567890\n"
     ]
    }
   ],
   "source": [
    "greet(1234567890)"
   ]
  },
  {
   "cell_type": "code",
   "execution_count": 11,
   "id": "eb41cb29-4dc1-4d23-8ee9-cc5bed6dfe15",
   "metadata": {},
   "outputs": [
    {
     "data": {
      "text/plain": [
       "3×3 Matrix{Float64}:\n",
       " 0.208798   0.920083  0.221782\n",
       " 0.624716   0.94907   0.955838\n",
       " 0.0527294  0.653569  0.502658"
      ]
     },
     "execution_count": 11,
     "metadata": {},
     "output_type": "execute_result"
    }
   ],
   "source": [
    "A = rand(3, 3)\n",
    "A"
   ]
  },
  {
   "cell_type": "code",
   "execution_count": 12,
   "id": "6420f51c-5812-4221-985b-c7e7cb490129",
   "metadata": {},
   "outputs": [
    {
     "data": {
      "text/plain": [
       "3×3 Matrix{Float64}:\n",
       " 0.630082  1.21028  1.03724\n",
       " 0.77374   2.10023  1.52617\n",
       " 0.44581   0.99732  0.889065"
      ]
     },
     "execution_count": 12,
     "metadata": {},
     "output_type": "execute_result"
    }
   ],
   "source": [
    "f(A)"
   ]
  },
  {
   "cell_type": "code",
   "execution_count": 13,
   "id": "5542a5bc-552a-4a57-bc61-77f0b21de718",
   "metadata": {},
   "outputs": [
    {
     "data": {
      "text/plain": [
       "3×2 Matrix{Float64}:\n",
       " 0.952589  0.0447002\n",
       " 0.690748  0.569455\n",
       " 0.618462  0.552754"
      ]
     },
     "execution_count": 13,
     "metadata": {},
     "output_type": "execute_result"
    }
   ],
   "source": [
    "A = rand(3, 2)"
   ]
  },
  {
   "cell_type": "code",
   "execution_count": 14,
   "id": "60b24a3b-94bf-4846-ad56-a7986446b76a",
   "metadata": {},
   "outputs": [
    {
     "ename": "LoadError",
     "evalue": "DimensionMismatch: A has dimensions (3,2) but B has dimensions (3,2)",
     "output_type": "error",
     "traceback": [
      "DimensionMismatch: A has dimensions (3,2) but B has dimensions (3,2)",
      "",
      "Stacktrace:",
      "  [1] gemm_wrapper!(C::Matrix{Float64}, tA::Char, tB::Char, A::Matrix{Float64}, B::Matrix{Float64}, _add::LinearAlgebra.MulAddMul{true, true, Bool, Bool})",
      "    @ LinearAlgebra /usr/share/julia/stdlib/v1.8/LinearAlgebra/src/matmul.jl:646",
      "  [2] mul!",
      "    @ /usr/share/julia/stdlib/v1.8/LinearAlgebra/src/matmul.jl:161 [inlined]",
      "  [3] mul!",
      "    @ /usr/share/julia/stdlib/v1.8/LinearAlgebra/src/matmul.jl:276 [inlined]",
      "  [4] *",
      "    @ /usr/share/julia/stdlib/v1.8/LinearAlgebra/src/matmul.jl:148 [inlined]",
      "  [5] power_by_squaring(x_::Matrix{Float64}, p::Int64)",
      "    @ Base ./intfuncs.jl:271",
      "  [6] ^",
      "    @ /usr/share/julia/stdlib/v1.8/LinearAlgebra/src/dense.jl:454 [inlined]",
      "  [7] literal_pow",
      "    @ ./intfuncs.jl:340 [inlined]",
      "  [8] f(x::Matrix{Float64})",
      "    @ Main ./In[2]:2",
      "  [9] top-level scope",
      "    @ In[14]:1",
      " [10] eval",
      "    @ ./boot.jl:368 [inlined]",
      " [11] include_string(mapexpr::typeof(REPL.softscope), mod::Module, code::String, filename::String)",
      "    @ Base ./loading.jl:1428"
     ]
    }
   ],
   "source": [
    "f(A) # this type of input didn't make sense"
   ]
  },
  {
   "cell_type": "code",
   "execution_count": 15,
   "id": "f578908b-31ea-467a-8ed6-5c0c5e867924",
   "metadata": {},
   "outputs": [
    {
     "data": {
      "text/plain": [
       "\"HelloHello\""
      ]
     },
     "execution_count": 15,
     "metadata": {},
     "output_type": "execute_result"
    }
   ],
   "source": [
    "f(\"Hello\")"
   ]
  },
  {
   "cell_type": "markdown",
   "id": "051aed0a-7d30-41cf-830f-6072191aa387",
   "metadata": {},
   "source": [
    "### Mutating vs Non-mutating function\n",
    "\n",
    "By convention, function followed by `!` alter their contents and functions lacking `!` do not."
   ]
  },
  {
   "cell_type": "code",
   "execution_count": 16,
   "id": "f07e66b1-38fd-4f06-981e-a1e2b9bace1e",
   "metadata": {},
   "outputs": [
    {
     "data": {
      "text/plain": [
       "4-element Vector{Int64}:\n",
       " 5\n",
       " 1\n",
       " 4\n",
       " 2"
      ]
     },
     "execution_count": 16,
     "metadata": {},
     "output_type": "execute_result"
    }
   ],
   "source": [
    "v = [5, 1, 4, 2]"
   ]
  },
  {
   "cell_type": "code",
   "execution_count": 17,
   "id": "aa9326cf-602e-45e5-8b57-04b4b8532ea0",
   "metadata": {},
   "outputs": [
    {
     "data": {
      "text/plain": [
       "4-element Vector{Int64}:\n",
       " 5\n",
       " 1\n",
       " 4\n",
       " 2"
      ]
     },
     "execution_count": 17,
     "metadata": {},
     "output_type": "execute_result"
    }
   ],
   "source": [
    "sort(v)\n",
    "v"
   ]
  },
  {
   "cell_type": "code",
   "execution_count": 18,
   "id": "33c8b8db-ea64-408f-9138-a2fc26726f53",
   "metadata": {},
   "outputs": [
    {
     "data": {
      "text/plain": [
       "4-element Vector{Int64}:\n",
       " 1\n",
       " 2\n",
       " 4\n",
       " 5"
      ]
     },
     "execution_count": 18,
     "metadata": {},
     "output_type": "execute_result"
    }
   ],
   "source": [
    "sort!(v)\n",
    "v"
   ]
  },
  {
   "cell_type": "markdown",
   "id": "dad33b72-b3ce-4133-9142-24e8ac5cb38a",
   "metadata": {},
   "source": [
    "### Broadcasting\n",
    "\n",
    "By placing a `.` between any function name and its argument list, we tell that the function to broadcast over the elements of the input objects."
   ]
  },
  {
   "cell_type": "code",
   "execution_count": 19,
   "id": "fbd7fadb-f317-4c6e-8909-81a643871e1c",
   "metadata": {},
   "outputs": [
    {
     "data": {
      "text/plain": [
       "3×3 Matrix{Int64}:\n",
       " 1  2  3\n",
       " 4  5  6\n",
       " 7  8  9"
      ]
     },
     "execution_count": 19,
     "metadata": {},
     "output_type": "execute_result"
    }
   ],
   "source": [
    "A = [i + 3*j for j ∈ 0:2, i ∈ 1:3]"
   ]
  },
  {
   "cell_type": "code",
   "execution_count": 20,
   "id": "c3fab350-8b59-4148-bd97-f9bf570ed385",
   "metadata": {},
   "outputs": [
    {
     "data": {
      "text/plain": [
       "3×3 Matrix{Int64}:\n",
       "  30   36   42\n",
       "  66   81   96\n",
       " 102  126  150"
      ]
     },
     "execution_count": 20,
     "metadata": {},
     "output_type": "execute_result"
    }
   ],
   "source": [
    "f(A) # A * A"
   ]
  },
  {
   "cell_type": "code",
   "execution_count": 21,
   "id": "65d3f899-b69a-4b83-9b04-387d32a0ca95",
   "metadata": {},
   "outputs": [
    {
     "data": {
      "text/plain": [
       "3×3 Matrix{Int64}:\n",
       "  1   4   9\n",
       " 16  25  36\n",
       " 49  64  81"
      ]
     },
     "execution_count": 21,
     "metadata": {},
     "output_type": "execute_result"
    }
   ],
   "source": [
    "f.(A) # a[i, j] * a[i, j]"
   ]
  },
  {
   "cell_type": "code",
   "execution_count": 22,
   "id": "e5281876-c38a-4c56-9391-e7086b1d3770",
   "metadata": {},
   "outputs": [
    {
     "data": {
      "text/plain": [
       "3-element Vector{Int64}:\n",
       " 9\n",
       " 4\n",
       " 1"
      ]
     },
     "execution_count": 22,
     "metadata": {},
     "output_type": "execute_result"
    }
   ],
   "source": [
    "f.([3, 2, 1])"
   ]
  },
  {
   "cell_type": "code",
   "execution_count": null,
   "id": "255b7c47-a45c-42fc-a5a0-7da4266ec779",
   "metadata": {},
   "outputs": [],
   "source": []
  }
 ],
 "metadata": {
  "kernelspec": {
   "display_name": "Julia 1.8.0",
   "language": "julia",
   "name": "julia-1.8"
  },
  "language_info": {
   "file_extension": ".jl",
   "mimetype": "application/julia",
   "name": "julia",
   "version": "1.8.0"
  }
 },
 "nbformat": 4,
 "nbformat_minor": 5
}
