{
 "cells": [
  {
   "cell_type": "markdown",
   "id": "df48c2fa-158c-4260-b31f-31cd34825797",
   "metadata": {},
   "source": [
    "# Basic Linear Algebra"
   ]
  },
  {
   "cell_type": "code",
   "execution_count": 11,
   "id": "ad44fd28-1b9d-4e9a-b992-d50e2596d5d8",
   "metadata": {},
   "outputs": [
    {
     "data": {
      "text/plain": [
       "3×3 Matrix{Int64}:\n",
       " 3  4  1\n",
       " 3  4  3\n",
       " 3  3  1"
      ]
     },
     "execution_count": 11,
     "metadata": {},
     "output_type": "execute_result"
    }
   ],
   "source": [
    "A = rand(1:4, 3, 3)"
   ]
  },
  {
   "cell_type": "code",
   "execution_count": 2,
   "id": "51797fc3-993e-48d0-8f7c-e31bb8b67e8a",
   "metadata": {},
   "outputs": [
    {
     "data": {
      "text/plain": [
       "3×6 Matrix{Int64}:\n",
       " 3  2  1  3  2  1\n",
       " 1  2  3  1  2  3\n",
       " 1  2  3  1  2  3"
      ]
     },
     "execution_count": 2,
     "metadata": {},
     "output_type": "execute_result"
    }
   ],
   "source": [
    "B = A\n",
    "C = copy(A)\n",
    "[ B C]"
   ]
  },
  {
   "cell_type": "code",
   "execution_count": 3,
   "id": "838f9a5a-7195-4973-a4b5-352ae51338b4",
   "metadata": {},
   "outputs": [
    {
     "data": {
      "text/plain": [
       "3×6 Matrix{Int64}:\n",
       " 17  2  1  3  2  1\n",
       "  1  2  3  1  2  3\n",
       "  1  2  3  1  2  3"
      ]
     },
     "execution_count": 3,
     "metadata": {},
     "output_type": "execute_result"
    }
   ],
   "source": [
    "A[1] = 17\n",
    "[B C]"
   ]
  },
  {
   "cell_type": "code",
   "execution_count": 12,
   "id": "88c28ba6-9f0d-4bb4-85b2-5c74ea505fcf",
   "metadata": {},
   "outputs": [
    {
     "data": {
      "text/plain": [
       "3-element Vector{Float64}:\n",
       " 1.0\n",
       " 1.0\n",
       " 1.0"
      ]
     },
     "execution_count": 12,
     "metadata": {},
     "output_type": "execute_result"
    }
   ],
   "source": [
    "x = ones(3)"
   ]
  },
  {
   "cell_type": "markdown",
   "id": "11e70841-f2e0-43f7-b25c-0e83268ea541",
   "metadata": {},
   "source": [
    "### Multiplication"
   ]
  },
  {
   "cell_type": "code",
   "execution_count": 13,
   "id": "3c387a1f-80fe-4383-881d-4b1b5cd841a5",
   "metadata": {},
   "outputs": [
    {
     "data": {
      "text/plain": [
       "3-element Vector{Float64}:\n",
       "  8.0\n",
       " 10.0\n",
       "  7.0"
      ]
     },
     "execution_count": 13,
     "metadata": {},
     "output_type": "execute_result"
    }
   ],
   "source": [
    "b = A * x"
   ]
  },
  {
   "cell_type": "markdown",
   "id": "b8d605ac-08b5-43d2-8451-4791ce7d8acb",
   "metadata": {},
   "source": [
    "### Transpose\n",
    "`A'` is the conjugate transpose, whereas `A.'` is just the transpose"
   ]
  },
  {
   "cell_type": "code",
   "execution_count": 6,
   "id": "6640d510-8d6b-4fa3-8de5-0ac497209bcf",
   "metadata": {},
   "outputs": [
    {
     "data": {
      "text/plain": [
       "3×3 Matrix{Int64}:\n",
       " 34  3  2\n",
       "  3  4  5\n",
       "  2  5  6"
      ]
     },
     "execution_count": 6,
     "metadata": {},
     "output_type": "execute_result"
    }
   ],
   "source": [
    "A_symm = A + A'"
   ]
  },
  {
   "cell_type": "markdown",
   "id": "28267170-928c-43d1-abd4-5381580cae4d",
   "metadata": {},
   "source": [
    "### Transposed multiplication\n",
    "Julia allows us to write this without using `*`"
   ]
  },
  {
   "cell_type": "code",
   "execution_count": 7,
   "id": "677e50bc-5936-4f33-8d0e-b3d682b46cd4",
   "metadata": {},
   "outputs": [
    {
     "data": {
      "text/plain": [
       "3×3 Matrix{Int64}:\n",
       " 291  38  23\n",
       "  38  12  14\n",
       "  23  14  19"
      ]
     },
     "execution_count": 7,
     "metadata": {},
     "output_type": "execute_result"
    }
   ],
   "source": [
    "Apd = A'A"
   ]
  },
  {
   "cell_type": "markdown",
   "id": "48e744e7-e1c3-4dd6-9cbc-e31d70239fef",
   "metadata": {},
   "source": [
    "### Solving linear systems\n",
    "The problem $Ax = b$ for a square matrix $A$ is solved by `\\` function"
   ]
  },
  {
   "cell_type": "code",
   "execution_count": 14,
   "id": "723856dc-133e-48a2-b99e-2be5f4a84802",
   "metadata": {},
   "outputs": [
    {
     "data": {
      "text/plain": [
       "3-element Vector{Float64}:\n",
       " 1.0\n",
       " 1.0\n",
       " 1.0"
      ]
     },
     "execution_count": 14,
     "metadata": {},
     "output_type": "execute_result"
    }
   ],
   "source": [
    "A \\ b"
   ]
  },
  {
   "cell_type": "markdown",
   "id": "fea34b57-7fe2-4576-a981-83634cc6f682",
   "metadata": {},
   "source": [
    "### Overdetermined system\n",
    "When $A$ is tall, the `\\` function calculates the least squares solution."
   ]
  },
  {
   "cell_type": "code",
   "execution_count": 15,
   "id": "42f05842-2d55-4f75-b98a-9f809f2a13ce",
   "metadata": {},
   "outputs": [
    {
     "data": {
      "text/plain": [
       "3×2 Matrix{Int64}:\n",
       " 3  4\n",
       " 3  4\n",
       " 3  3"
      ]
     },
     "metadata": {},
     "output_type": "display_data"
    }
   ],
   "source": [
    "A_tall = A[:, 1:2]\n",
    "display(A_tall)"
   ]
  },
  {
   "cell_type": "code",
   "execution_count": 16,
   "id": "5e3a64c1-77e8-4b42-8e75-132bc31950ec",
   "metadata": {},
   "outputs": [
    {
     "data": {
      "text/plain": [
       "2-element Vector{Float64}:\n",
       " 0.33333333333333787\n",
       " 1.9999999999999964"
      ]
     },
     "execution_count": 16,
     "metadata": {},
     "output_type": "execute_result"
    }
   ],
   "source": [
    "A_tall\\b"
   ]
  },
  {
   "cell_type": "markdown",
   "id": "8928f7e2-ed68-44da-9a99-119c36c18396",
   "metadata": {},
   "source": [
    "The `\\` function also works for rank-deficit least squares problems. In this case, the least squares solution is not unique and Julia returns the solution with smallest form."
   ]
  },
  {
   "cell_type": "code",
   "execution_count": 17,
   "id": "aaf12aae-305e-4f5e-9afc-ded31b640a74",
   "metadata": {},
   "outputs": [
    {
     "data": {
      "text/plain": [
       "3×3 Matrix{Float64}:\n",
       "  0.10988  -1.98483   -0.333585\n",
       "  1.14302   0.135921  -0.529341\n",
       " -1.44216   1.62791   -2.22209"
      ]
     },
     "execution_count": 17,
     "metadata": {},
     "output_type": "execute_result"
    }
   ],
   "source": [
    "A = randn(3, 3)"
   ]
  },
  {
   "cell_type": "code",
   "execution_count": 18,
   "id": "b6ebb733-1c59-444b-b5c1-d188a1b063c6",
   "metadata": {},
   "outputs": [
    {
     "data": {
      "text/plain": [
       "2-element Vector{Float64}:\n",
       " 0.32575732961350695\n",
       " 0.32575732961350695"
      ]
     },
     "execution_count": 18,
     "metadata": {},
     "output_type": "execute_result"
    }
   ],
   "source": [
    "[A[:, 1] A[:, 1]]\\b"
   ]
  },
  {
   "cell_type": "markdown",
   "id": "0ff32bb4-780a-41f2-a0d5-40f30f88cda8",
   "metadata": {},
   "source": [
    "### Underdetermined system\n",
    "When $A$ is short, the `\\` function calculates the minimum norm solution"
   ]
  },
  {
   "cell_type": "code",
   "execution_count": 19,
   "id": "b7cf1698-f975-47db-8abe-8cb68d93852a",
   "metadata": {},
   "outputs": [
    {
     "data": {
      "text/plain": [
       "2×3 Matrix{Float64}:\n",
       " 0.10988  -1.98483   -0.333585\n",
       " 1.14302   0.135921  -0.529341"
      ]
     },
     "metadata": {},
     "output_type": "display_data"
    },
    {
     "data": {
      "text/plain": [
       "3-element Vector{Float64}:\n",
       "  7.287499327905749\n",
       " -2.968718850760486\n",
       " -3.917579190954642"
      ]
     },
     "execution_count": 19,
     "metadata": {},
     "output_type": "execute_result"
    }
   ],
   "source": [
    "A_short = A[1:2, :]\n",
    "display(A_short)\n",
    "A_short\\b[1:2]"
   ]
  },
  {
   "cell_type": "code",
   "execution_count": null,
   "id": "7fbd1245-6dc7-4267-9f9c-0a07d9b8a1f3",
   "metadata": {},
   "outputs": [],
   "source": []
  }
 ],
 "metadata": {
  "kernelspec": {
   "display_name": "Julia 1.8.0",
   "language": "julia",
   "name": "julia-1.8"
  },
  "language_info": {
   "file_extension": ".jl",
   "mimetype": "application/julia",
   "name": "julia",
   "version": "1.8.0"
  }
 },
 "nbformat": 4,
 "nbformat_minor": 5
}
